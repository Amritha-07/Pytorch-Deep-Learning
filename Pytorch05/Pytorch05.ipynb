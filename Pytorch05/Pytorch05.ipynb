{
 "cells": [
  {
   "cell_type": "code",
   "execution_count": 12,
   "id": "6863cb4c",
   "metadata": {},
   "outputs": [],
   "source": [
    "import os\n",
    "os.environ['KMP_DUPLICATE_LIB_OK'] = 'TRUE'"
   ]
  },
  {
   "cell_type": "code",
   "execution_count": 13,
   "id": "98be6df4",
   "metadata": {},
   "outputs": [],
   "source": [
    "from torchvision import transforms\n",
    "from pathlib import Path\n",
    "\n",
    "data_path = Path(\"data/\")\n",
    "image_path = data_path / \"pizza_steak_sushi\"\n",
    "train_dir = image_path / \"train\"\n",
    "test_dir = image_path / \"test\"\n",
    "data_transform = transforms.Compose([transforms.Resize(size = (64, 64)), transforms.ToTensor()])\n",
    "batch_size = 32  "
   ]
  },
  {
   "cell_type": "code",
   "execution_count": 14,
   "id": "c912bc60",
   "metadata": {},
   "outputs": [
    {
     "data": {
      "text/plain": [
       "(<torch.utils.data.dataloader.DataLoader at 0x189242b9c60>,\n",
       " <torch.utils.data.dataloader.DataLoader at 0x189242b9930>,\n",
       " ['pizza', 'steak', 'sushi'])"
      ]
     },
     "execution_count": 14,
     "metadata": {},
     "output_type": "execute_result"
    },
    {
     "data": {
      "text/plain": [
       "(<torch.utils.data.dataloader.DataLoader at 0x189242b9c60>,\n",
       " <torch.utils.data.dataloader.DataLoader at 0x189242b9930>,\n",
       " ['pizza', 'steak', 'sushi'])"
      ]
     },
     "execution_count": 14,
     "metadata": {},
     "output_type": "execute_result"
    }
   ],
   "source": [
    "from modular import data_setup\n",
    "\n",
    "train_dataloader, test_dataloader, class_names = data_setup.create_dataloader(train_dir, test_dir, data_transform, batch_size)\n",
    "train_dataloader, test_dataloader, class_names"
   ]
  },
  {
   "cell_type": "code",
   "execution_count": 15,
   "id": "374c8aa5",
   "metadata": {},
   "outputs": [
    {
     "data": {
      "text/plain": [
       "TinyVGG(\n",
       "  (block_1): Sequential(\n",
       "    (0): Conv2d(3, 10, kernel_size=(3, 3), stride=(1, 1), padding=(1, 1))\n",
       "    (1): ReLU()\n",
       "    (2): Conv2d(10, 10, kernel_size=(3, 3), stride=(1, 1), padding=(1, 1))\n",
       "    (3): ReLU()\n",
       "    (4): MaxPool2d(kernel_size=2, stride=2, padding=0, dilation=1, ceil_mode=False)\n",
       "  )\n",
       "  (block_2): Sequential(\n",
       "    (0): Conv2d(10, 10, kernel_size=(3, 3), stride=(1, 1), padding=(1, 1))\n",
       "    (1): ReLU()\n",
       "    (2): Conv2d(10, 10, kernel_size=(3, 3), stride=(1, 1), padding=(1, 1))\n",
       "    (3): ReLU()\n",
       "    (4): MaxPool2d(kernel_size=2, stride=2, padding=0, dilation=1, ceil_mode=False)\n",
       "  )\n",
       "  (classifier): Sequential(\n",
       "    (0): Flatten(start_dim=1, end_dim=-1)\n",
       "    (1): Linear(in_features=2560, out_features=3, bias=True)\n",
       "  )\n",
       ")"
      ]
     },
     "execution_count": 15,
     "metadata": {},
     "output_type": "execute_result"
    },
    {
     "data": {
      "text/plain": [
       "TinyVGG(\n",
       "  (block_1): Sequential(\n",
       "    (0): Conv2d(3, 10, kernel_size=(3, 3), stride=(1, 1), padding=(1, 1))\n",
       "    (1): ReLU()\n",
       "    (2): Conv2d(10, 10, kernel_size=(3, 3), stride=(1, 1), padding=(1, 1))\n",
       "    (3): ReLU()\n",
       "    (4): MaxPool2d(kernel_size=2, stride=2, padding=0, dilation=1, ceil_mode=False)\n",
       "  )\n",
       "  (block_2): Sequential(\n",
       "    (0): Conv2d(10, 10, kernel_size=(3, 3), stride=(1, 1), padding=(1, 1))\n",
       "    (1): ReLU()\n",
       "    (2): Conv2d(10, 10, kernel_size=(3, 3), stride=(1, 1), padding=(1, 1))\n",
       "    (3): ReLU()\n",
       "    (4): MaxPool2d(kernel_size=2, stride=2, padding=0, dilation=1, ceil_mode=False)\n",
       "  )\n",
       "  (classifier): Sequential(\n",
       "    (0): Flatten(start_dim=1, end_dim=-1)\n",
       "    (1): Linear(in_features=2560, out_features=3, bias=True)\n",
       "  )\n",
       ")"
      ]
     },
     "execution_count": 15,
     "metadata": {},
     "output_type": "execute_result"
    }
   ],
   "source": [
    "import torch\n",
    "from modular import model_builder\n",
    "\n",
    "device = \"cuda\" if torch.cuda.is_available() else \"cpu\"\n",
    "\n",
    "torch.manual_seed(42)\n",
    "model = model_builder.TinyVGG(input_features = 3, output_features = len(class_names), hidden_units = 10).to(device)\n",
    "model"
   ]
  },
  {
   "cell_type": "code",
   "execution_count": 16,
   "id": "3ab6ff29",
   "metadata": {},
   "outputs": [
    {
     "data": {
      "application/vnd.jupyter.widget-view+json": {
       "model_id": "ceb29179f3bb4a8fb0b922bf405c240e",
       "version_major": 2,
       "version_minor": 0
      },
      "text/plain": [
       "  0%|          | 0/10 [00:00<?, ?it/s]"
      ]
     },
     "metadata": {},
     "output_type": "display_data"
    },
    {
     "data": {
      "application/vnd.jupyter.widget-view+json": {
       "model_id": "ceb29179f3bb4a8fb0b922bf405c240e",
       "version_major": 2,
       "version_minor": 0
      },
      "text/plain": [
       "  0%|          | 0/10 [00:00<?, ?it/s]"
      ]
     },
     "metadata": {},
     "output_type": "display_data"
    },
    {
     "name": "stdout",
     "output_type": "stream",
     "text": [
      "Epoch: 1 | train_loss: 1.0975 | train_acc: 0.2500 | test_loss: 1.1055 | test_acc: 0.1979\n",
      "Epoch: 1 | train_loss: 1.0975 | train_acc: 0.2500 | test_loss: 1.1055 | test_acc: 0.1979\n",
      "Epoch: 2 | train_loss: 1.0968 | train_acc: 0.3984 | test_loss: 1.1072 | test_acc: 0.1979\n",
      "Epoch: 2 | train_loss: 1.0968 | train_acc: 0.3984 | test_loss: 1.1072 | test_acc: 0.1979\n",
      "Epoch: 3 | train_loss: 1.0983 | train_acc: 0.2930 | test_loss: 1.1082 | test_acc: 0.1875\n",
      "Epoch: 3 | train_loss: 1.0983 | train_acc: 0.2930 | test_loss: 1.1082 | test_acc: 0.1875\n",
      "Epoch: 4 | train_loss: 1.0963 | train_acc: 0.3828 | test_loss: 1.1099 | test_acc: 0.1979\n",
      "Epoch: 4 | train_loss: 1.0963 | train_acc: 0.3828 | test_loss: 1.1099 | test_acc: 0.1979\n",
      "Epoch: 5 | train_loss: 1.0971 | train_acc: 0.2930 | test_loss: 1.1109 | test_acc: 0.1667\n",
      "Epoch: 5 | train_loss: 1.0971 | train_acc: 0.2930 | test_loss: 1.1109 | test_acc: 0.1667\n",
      "Epoch: 6 | train_loss: 1.0965 | train_acc: 0.2617 | test_loss: 1.1125 | test_acc: 0.1979\n",
      "Epoch: 6 | train_loss: 1.0965 | train_acc: 0.2617 | test_loss: 1.1125 | test_acc: 0.1979\n",
      "Epoch: 7 | train_loss: 1.1037 | train_acc: 0.2852 | test_loss: 1.1097 | test_acc: 0.1979\n",
      "Epoch: 7 | train_loss: 1.1037 | train_acc: 0.2852 | test_loss: 1.1097 | test_acc: 0.1979\n",
      "Epoch: 8 | train_loss: 1.1023 | train_acc: 0.2930 | test_loss: 1.1071 | test_acc: 0.1979\n",
      "Epoch: 8 | train_loss: 1.1023 | train_acc: 0.2930 | test_loss: 1.1071 | test_acc: 0.1979\n",
      "Epoch: 9 | train_loss: 1.1016 | train_acc: 0.2891 | test_loss: 1.1045 | test_acc: 0.1875\n",
      "Epoch: 9 | train_loss: 1.1016 | train_acc: 0.2891 | test_loss: 1.1045 | test_acc: 0.1875\n",
      "Epoch: 10 | train_loss: 1.1010 | train_acc: 0.2852 | test_loss: 1.1021 | test_acc: 0.1771\n",
      "Epoch: 10 | train_loss: 1.1010 | train_acc: 0.2852 | test_loss: 1.1021 | test_acc: 0.1771\n"
     ]
    },
    {
     "data": {
      "text/plain": [
       "{'train_loss': [1.0975321382284164,\n",
       "  1.0967953354120255,\n",
       "  1.0983315259218216,\n",
       "  1.0963305532932281,\n",
       "  1.0971065014600754,\n",
       "  1.0964590907096863,\n",
       "  1.1037403345108032,\n",
       "  1.102292686700821,\n",
       "  1.1015877723693848,\n",
       "  1.1009784638881683],\n",
       " 'train_acc': [0.25,\n",
       "  0.3984375,\n",
       "  0.29296875,\n",
       "  0.3828125,\n",
       "  0.29296875,\n",
       "  0.26171875,\n",
       "  0.28515625,\n",
       "  0.29296875,\n",
       "  0.2890625,\n",
       "  0.28515625],\n",
       " 'test_loss': [1.1055068174997966,\n",
       "  1.107230265935262,\n",
       "  1.1081724166870117,\n",
       "  1.109882911046346,\n",
       "  1.110877513885498,\n",
       "  1.1125036875406902,\n",
       "  1.1096726258595784,\n",
       "  1.107072353363037,\n",
       "  1.1045304934183757,\n",
       "  1.1020931005477905],\n",
       " 'test_acc': [0.19791666666666666,\n",
       "  0.19791666666666666,\n",
       "  0.1875,\n",
       "  0.19791666666666666,\n",
       "  0.16666666666666666,\n",
       "  0.19791666666666666,\n",
       "  0.19791666666666666,\n",
       "  0.19791666666666666,\n",
       "  0.1875,\n",
       "  0.17708333333333334]}"
      ]
     },
     "execution_count": 16,
     "metadata": {},
     "output_type": "execute_result"
    },
    {
     "data": {
      "text/plain": [
       "{'train_loss': [1.0975321382284164,\n",
       "  1.0967953354120255,\n",
       "  1.0983315259218216,\n",
       "  1.0963305532932281,\n",
       "  1.0971065014600754,\n",
       "  1.0964590907096863,\n",
       "  1.1037403345108032,\n",
       "  1.102292686700821,\n",
       "  1.1015877723693848,\n",
       "  1.1009784638881683],\n",
       " 'train_acc': [0.25,\n",
       "  0.3984375,\n",
       "  0.29296875,\n",
       "  0.3828125,\n",
       "  0.29296875,\n",
       "  0.26171875,\n",
       "  0.28515625,\n",
       "  0.29296875,\n",
       "  0.2890625,\n",
       "  0.28515625],\n",
       " 'test_loss': [1.1055068174997966,\n",
       "  1.107230265935262,\n",
       "  1.1081724166870117,\n",
       "  1.109882911046346,\n",
       "  1.110877513885498,\n",
       "  1.1125036875406902,\n",
       "  1.1096726258595784,\n",
       "  1.107072353363037,\n",
       "  1.1045304934183757,\n",
       "  1.1020931005477905],\n",
       " 'test_acc': [0.19791666666666666,\n",
       "  0.19791666666666666,\n",
       "  0.1875,\n",
       "  0.19791666666666666,\n",
       "  0.16666666666666666,\n",
       "  0.19791666666666666,\n",
       "  0.19791666666666666,\n",
       "  0.19791666666666666,\n",
       "  0.1875,\n",
       "  0.17708333333333334]}"
      ]
     },
     "execution_count": 16,
     "metadata": {},
     "output_type": "execute_result"
    }
   ],
   "source": [
    "from torch import nn\n",
    "from modular import engine\n",
    "\n",
    "loss_fn = nn.CrossEntropyLoss()\n",
    "optimizer = torch.optim.SGD(model.parameters(), lr = 0.001)\n",
    "epochs = 10\n",
    "\n",
    "engine.train(model, train_dataloader, test_dataloader, loss_fn, optimizer, epochs, device)"
   ]
  },
  {
   "cell_type": "code",
   "execution_count": 17,
   "id": "47cc30a9",
   "metadata": {},
   "outputs": [
    {
     "name": "stdout",
     "output_type": "stream",
     "text": [
      "[INFO] Saving model to: models\\05_going_modular_script_mode_tinyvgg_model.pth\n",
      "[INFO] Saving model to: models\\05_going_modular_script_mode_tinyvgg_model.pth\n"
     ]
    }
   ],
   "source": [
    "from modular import utils\n",
    "\n",
    "utils.save_model(model = model, target_dir = \"models\", model_name = \"05_going_modular_script_mode_tinyvgg_model.pth\")"
   ]
  },
  {
   "cell_type": "code",
   "execution_count": 18,
   "id": "c337c33a",
   "metadata": {},
   "outputs": [],
   "source": [
    "from typing import List, Dict, Tuple\n",
    "import torchvision\n",
    "import matplotlib.pyplot as plt\n",
    "\n",
    "def pred_and_plot_image(model: torch.nn.Module, image_path: str, class_names: List[str] = None, transform=None, device: torch.device = device):\n",
    "    target_image = torchvision.io.read_image(str(image_path)).type(torch.float32)\n",
    "    target_image = target_image / 255. \n",
    "    if transform:\n",
    "        target_image = transform(target_image)\n",
    "    model.to(device)\n",
    "    model.eval()\n",
    "    with torch.inference_mode():\n",
    "        target_image = target_image.unsqueeze(dim=0)\n",
    "        target_image_pred = model(target_image.to(device))\n",
    "    target_image_pred_probs = torch.softmax(target_image_pred, dim=1)\n",
    "    target_image_pred_label = torch.argmax(target_image_pred_probs, dim=1)\n",
    "    plt.imshow(target_image.squeeze().permute(1, 2, 0)) # make sure it's the right size for matplotlib\n",
    "    if class_names:\n",
    "        title = f\"Pred: {class_names[target_image_pred_label.cpu()]} | Prob: {target_image_pred_probs.max().cpu():.3f}\"\n",
    "    else: \n",
    "        title = f\"Pred: {target_image_pred_label} | Prob: {target_image_pred_probs.max().cpu():.3f}\"\n",
    "    plt.title(title)\n",
    "    plt.axis(False)"
   ]
  },
  {
   "cell_type": "code",
   "execution_count": 19,
   "id": "d0f164e6",
   "metadata": {},
   "outputs": [
    {
     "name": "stdout",
     "output_type": "stream",
     "text": [
      "already Downloaded\n",
      "already Downloaded\n"
     ]
    }
   ],
   "source": [
    "import requests\n",
    "\n",
    "custom_image_path = data_path / \"04-pizza-dad.jpeg\"\n",
    "\n",
    "if not custom_image_path.is_file():\n",
    "    with open(custom_image_path, 'wb') as f:\n",
    "        request = requests.get(\"https://raw.githubusercontent.com/mrdbourke/pytorch-deep-learning/main/images/04-pizza-dad.jpeg\")\n",
    "        print(\"Downloading\")\n",
    "        f.write(request.content)\n",
    "else:\n",
    "    print(\"already Downloaded\")"
   ]
  },
  {
   "cell_type": "code",
   "execution_count": 20,
   "id": "fe6f3451",
   "metadata": {},
   "outputs": [],
   "source": [
    "custom_image_transform = transforms.Compose([transforms.Resize((64, 64))])"
   ]
  },
  {
   "cell_type": "code",
   "execution_count": 21,
   "id": "3aa865da",
   "metadata": {},
   "outputs": [
    {
     "data": {
      "image/png": "[encoded data removed]",
      "text/plain": [
       "<Figure size 640x480 with 1 Axes>"
      ]
     },
     "metadata": {},
     "output_type": "display_data"
    },
    {
     "data": {
      "image/png": "[encoded data removed]",
      "text/plain": [
       "<Figure size 640x480 with 1 Axes>"
      ]
     },
     "metadata": {},
     "output_type": "display_data"
    }
   ],
   "source": [
    "pred_and_plot_image(model, custom_image_path, class_names, custom_image_transform, device)"
   ]
  },
  {
   "cell_type": "code",
   "execution_count": null,
   "id": "a5cedce3",
   "metadata": {},
   "outputs": [],
   "source": []
  }
 ],
 "metadata": {
  "kernelspec": {
   "display_name": "Python 3 (ipykernel)",
   "language": "python",
   "name": "python3"
  },
  "language_info": {
   "codemirror_mode": {
    "name": "ipython",
    "version": 3
   },
   "file_extension": ".py",
   "mimetype": "text/x-python",
   "name": "python",
   "nbconvert_exporter": "python",
   "pygments_lexer": "ipython3",
   "version": "3.10.9"
  }
 },
 "nbformat": 4,
 "nbformat_minor": 5
}
