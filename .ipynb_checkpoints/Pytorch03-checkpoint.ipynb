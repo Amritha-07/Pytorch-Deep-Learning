{
 "cells": [
  {
   "cell_type": "markdown",
   "id": "1b8d7bd0",
   "metadata": {},
   "source": [
    "# Computer Vision"
   ]
  },
  {
   "cell_type": "markdown",
   "id": "b4b04895",
   "metadata": {},
   "source": [
    "Computer vision libraries in pytorch --> Load data --> Prepare data --> Model_0 - Building a baseline model --> Making predictions and evaluating Model_0 --> setup device agnostic code for future models --> Model_1 - adding non linearity -- > Model_2 - CNN (Convolutional Neural Network) --> Comparing our models --> Evaluating our best model --> Making a confusion matrix --> Saving and loading the best performing model"
   ]
  },
  {
   "cell_type": "code",
   "execution_count": 1,
   "id": "df917be4",
   "metadata": {},
   "outputs": [
    {
     "name": "stderr",
     "output_type": "stream",
     "text": [
      "C:\\Users\\ppamr\\anaconda3\\lib\\site-packages\\torchaudio\\backend\\utils.py:74: UserWarning: No audio backend is available.\n",
      "  warnings.warn(\"No audio backend is available.\")\n"
     ]
    }
   ],
   "source": [
    "import torch\n",
    "from torch import nn\n",
    "\n",
    "import torchvision\n",
    "from torchvision import datasets\n",
    "from torchvision import models\n",
    "from torchvision import transforms\n",
    "from torch.utils.data import Dataset\n",
    "from torch.utils.data import DataLoader\n",
    "import torchmetrics\n",
    "import mlxtend\n",
    "\n",
    "\n",
    "import matplotlib.pyplot as plt\n",
    "import pandas as pd\n",
    "import random\n",
    "\n",
    "from tqdm.auto import tqdm"
   ]
  },
  {
   "cell_type": "code",
   "execution_count": 2,
   "id": "49b8e293",
   "metadata": {},
   "outputs": [],
   "source": [
    "import os\n",
    "os.environ['KMP_DUPLICATE_LIB_OK'] = 'True'"
   ]
  },
  {
   "cell_type": "code",
   "execution_count": 3,
   "id": "3b3a2f97",
   "metadata": {},
   "outputs": [
    {
     "data": {
      "text/plain": [
       "('2.0.1+cu118', '0.15.2+cu118')"
      ]
     },
     "execution_count": 3,
     "metadata": {},
     "output_type": "execute_result"
    }
   ],
   "source": [
    "torch.__version__, torchvision.__version__"
   ]
  },
  {
   "cell_type": "markdown",
   "id": "5bcece7c",
   "metadata": {},
   "source": [
    "# Downloading Dataset"
   ]
  },
  {
   "cell_type": "code",
   "execution_count": 4,
   "id": "95c262ca",
   "metadata": {},
   "outputs": [],
   "source": [
    "#downloading train data\n",
    "train_data = datasets.FashionMNIST(root = \"data\", train = True, download = True, transform = transforms.ToTensor(), target_transform = None)"
   ]
  },
  {
   "cell_type": "code",
   "execution_count": 5,
   "id": "6f811bb4",
   "metadata": {},
   "outputs": [],
   "source": [
    "#downloading test data\n",
    "test_data = datasets.FashionMNIST(root = \"data\", train = False, download = True, transform = transforms.ToTensor())"
   ]
  },
  {
   "cell_type": "code",
   "execution_count": 6,
   "id": "c901ce7c",
   "metadata": {},
   "outputs": [],
   "source": [
    "image, label = train_data[0]"
   ]
  },
  {
   "cell_type": "code",
   "execution_count": 7,
   "id": "771ba9a5",
   "metadata": {},
   "outputs": [
    {
     "data": {
      "text/plain": [
       "torch.Size([1, 28, 28])"
      ]
     },
     "execution_count": 7,
     "metadata": {},
     "output_type": "execute_result"
    }
   ],
   "source": [
    "#[color_channels, height, width]\n",
    "#[batch_size, color_channels, height, width] [None, 28, 28, 1] (NHWC)\n",
    "#or\n",
    "#[batch_size, height, width color_channels] [None, 1, 28, 28] (NCHW)\n",
    "image.shape"
   ]
  },
  {
   "cell_type": "code",
   "execution_count": 8,
   "id": "5b558efd",
   "metadata": {},
   "outputs": [
    {
     "data": {
      "text/plain": [
       "(60000, 60000, 10000, 10000)"
      ]
     },
     "execution_count": 8,
     "metadata": {},
     "output_type": "execute_result"
    }
   ],
   "source": [
    "len(train_data.data), len(train_data.targets), len(test_data.data), len(test_data.targets)"
   ]
  },
  {
   "cell_type": "code",
   "execution_count": 9,
   "id": "a1cb8fa4",
   "metadata": {},
   "outputs": [
    {
     "data": {
      "text/plain": [
       "['T-shirt/top',\n",
       " 'Trouser',\n",
       " 'Pullover',\n",
       " 'Dress',\n",
       " 'Coat',\n",
       " 'Sandal',\n",
       " 'Shirt',\n",
       " 'Sneaker',\n",
       " 'Bag',\n",
       " 'Ankle boot']"
      ]
     },
     "execution_count": 9,
     "metadata": {},
     "output_type": "execute_result"
    }
   ],
   "source": [
    "class_names = train_data.classes\n",
    "class_names"
   ]
  },
  {
   "cell_type": "code",
   "execution_count": 10,
   "id": "494fe486",
   "metadata": {},
   "outputs": [
    {
     "name": "stdout",
     "output_type": "stream",
     "text": [
      "Image shape:  torch.Size([1, 28, 28])\n"
     ]
    },
    {
     "data": {
      "image/png": "[encoded data removed]",
      "text/plain": [
       "<Figure size 640x480 with 1 Axes>"
      ]
     },
     "metadata": {},
     "output_type": "display_data"
    }
   ],
   "source": [
    "print(\"Image shape: \", image.shape)\n",
    "plt.imshow(image.squeeze())\n",
    "plt.title(label);"
   ]
  },
  {
   "cell_type": "code",
   "execution_count": 11,
   "id": "9dd64873",
   "metadata": {},
   "outputs": [
    {
     "data": {
      "text/plain": [
       "Text(0.5, 1.0, 'Ankle boot')"
      ]
     },
     "execution_count": 11,
     "metadata": {},
     "output_type": "execute_result"
    },
    {
     "data": {
      "image/png": "[encoded data removed]",
      "text/plain": [
       "<Figure size 640x480 with 1 Axes>"
      ]
     },
     "metadata": {},
     "output_type": "display_data"
    }
   ],
   "source": [
    "plt.imshow(image.squeeze(), cmap = \"gray\")\n",
    "plt.title(class_names[label])"
   ]
  },
  {
   "cell_type": "code",
   "execution_count": 12,
   "id": "3251053e",
   "metadata": {},
   "outputs": [
    {
     "data": {
      "image/png": "[encoded data removed]",
      "text/plain": [
       "<Figure size 900x900 with 16 Axes>"
      ]
     },
     "metadata": {},
     "output_type": "display_data"
    }
   ],
   "source": [
    "torch.manual_seed(42)\n",
    "plt.figure(figsize = (9, 9))\n",
    "rows, cols = 4, 4\n",
    "for i in range(1, rows * cols + 1):\n",
    "    random_idx = torch.randint(0, len(train_data), size = [1]).item()\n",
    "    img, label = train_data[random_idx]\n",
    "    plt.subplot(rows, cols, i)\n",
    "    plt.imshow(img.squeeze(), cmap = \"gray\")\n",
    "    plt.title(class_names[label])\n",
    "    plt.axis(False)"
   ]
  },
  {
   "cell_type": "markdown",
   "id": "13d9e4d2",
   "metadata": {},
   "source": [
    "# Prepare Dataloader"
   ]
  },
  {
   "cell_type": "code",
   "execution_count": 13,
   "id": "fba820b2",
   "metadata": {},
   "outputs": [],
   "source": [
    "batch_size = 32\n",
    "train_dataloader = DataLoader(train_data, batch_size = batch_size, shuffle = True)\n",
    "test_dataloader = DataLoader(test_data, batch_size = batch_size, shuffle = False)"
   ]
  },
  {
   "cell_type": "code",
   "execution_count": 14,
   "id": "e069b081",
   "metadata": {},
   "outputs": [
    {
     "name": "stdout",
     "output_type": "stream",
     "text": [
      "DataLoaders: (<torch.utils.data.dataloader.DataLoader object at 0x00000231CB7BD060>, <torch.utils.data.dataloader.DataLoader object at 0x00000231CB7BF160>)\n",
      "Length of train dataloader: 1875 batches of 32\n",
      "Length of test dataloader: 313 batches of 32\n"
     ]
    }
   ],
   "source": [
    "print(f\"DataLoaders: {train_dataloader, test_dataloader}\")\n",
    "print(f\"Length of train dataloader: {len(train_dataloader)} batches of {batch_size}\")\n",
    "print(f\"Length of test dataloader: {len(test_dataloader)} batches of {batch_size}\")"
   ]
  },
  {
   "cell_type": "code",
   "execution_count": 15,
   "id": "b569662c",
   "metadata": {},
   "outputs": [
    {
     "data": {
      "text/plain": [
       "(torch.Size([32, 1, 28, 28]), torch.Size([32]))"
      ]
     },
     "execution_count": 15,
     "metadata": {},
     "output_type": "execute_result"
    }
   ],
   "source": [
    "train_features_batch, train_labels_batch = next(iter(train_dataloader))\n",
    "train_features_batch.shape, train_labels_batch.shape"
   ]
  },
  {
   "cell_type": "code",
   "execution_count": 16,
   "id": "2e825dab",
   "metadata": {},
   "outputs": [
    {
     "name": "stdout",
     "output_type": "stream",
     "text": [
      "Image size: torch.Size([1, 28, 28])\n",
      "Label: 6, Label size: <built-in method size of Tensor object at 0x00000231C276DA30>\n"
     ]
    },
    {
     "data": {
      "image/png": "[encoded data removed]",
      "text/plain": [
       "<Figure size 640x480 with 1 Axes>"
      ]
     },
     "metadata": {},
     "output_type": "display_data"
    }
   ],
   "source": [
    "torch.manual_seed(42)\n",
    "random_idx = torch.randint(0, len(train_features_batch), size = [1]).item()\n",
    "img, label = train_features_batch[random_idx], train_labels_batch[random_idx]\n",
    "plt.imshow(img.squeeze(), cmap = \"gray\")\n",
    "plt.title(class_names[label])\n",
    "plt.axis(False)\n",
    "print(f\"Image size: {img.shape}\")\n",
    "print(f\"Label: {label}, Label size: {label.size}\")"
   ]
  },
  {
   "cell_type": "markdown",
   "id": "0c93114d",
   "metadata": {},
   "source": [
    "# Model 0: Baseline Model Building"
   ]
  },
  {
   "cell_type": "code",
   "execution_count": 17,
   "id": "b74944d5",
   "metadata": {},
   "outputs": [
    {
     "name": "stdout",
     "output_type": "stream",
     "text": [
      "shape before flattening: torch.Size([1, 28, 28]) -> [color_channels, height, width]\n",
      "shape after flattening: torch.Size([1, 784]) -> [color_channels, height * width]\n"
     ]
    }
   ],
   "source": [
    "flatten_model = nn.Flatten()\n",
    "\n",
    "x = train_features_batch[0]\n",
    "\n",
    "output = flatten_model(x)\n",
    "\n",
    "print(f\"shape before flattening: {x.shape} -> [color_channels, height, width]\")\n",
    "print(f\"shape after flattening: {output.shape} -> [color_channels, height * width]\")"
   ]
  },
  {
   "cell_type": "code",
   "execution_count": 18,
   "id": "02b9da2e",
   "metadata": {},
   "outputs": [],
   "source": [
    "class FashionMNISTModelV0(nn.Module):\n",
    "    def __init__(self, input_features, output_features, hidden_units = 8):\n",
    "        super().__init__()\n",
    "        self.layer_stack = nn.Sequential(\n",
    "            nn.Flatten(),\n",
    "            nn.Linear(in_features = input_features, out_features = hidden_units),\n",
    "            nn.Linear(in_features = hidden_units, out_features = output_features),\n",
    "        )\n",
    "    \n",
    "    def forward(self, x):\n",
    "        return self.layer_stack(x)"
   ]
  },
  {
   "cell_type": "code",
   "execution_count": 19,
   "id": "641621ce",
   "metadata": {},
   "outputs": [
    {
     "data": {
      "text/plain": [
       "FashionMNISTModelV0(\n",
       "  (layer_stack): Sequential(\n",
       "    (0): Flatten(start_dim=1, end_dim=-1)\n",
       "    (1): Linear(in_features=784, out_features=10, bias=True)\n",
       "    (2): Linear(in_features=10, out_features=10, bias=True)\n",
       "  )\n",
       ")"
      ]
     },
     "execution_count": 19,
     "metadata": {},
     "output_type": "execute_result"
    }
   ],
   "source": [
    "torch.manual_seed(42)\n",
    "\n",
    "model_0 = FashionMNISTModelV0(input_features = 784, output_features = len(class_names), hidden_units = len(class_names))\n",
    "model_0"
   ]
  },
  {
   "cell_type": "markdown",
   "id": "6bbe04de",
   "metadata": {},
   "source": [
    "# if need to install helper functions\n",
    "\n",
    "import requests\n",
    "from pathlib import Path \n",
    "\n",
    "#Download helper functions from Learn PyTorch repo (if not already downloaded)\n",
    "if Path(\"helper_functions.py\").is_file():\n",
    "  print(\"helper_functions.py already exists, skipping download\")\n",
    "else:\n",
    "  print(\"Downloading helper_functions.py\")\n",
    "  #Note: you need the \"raw\" GitHub URL for this to work\n",
    "  request = requests.get(\"https://raw.githubusercontent.com/mrdbourke/pytorch-deep-learning/main/helper_functions.py\")\n",
    "  with open(\"helper_functions.py\", \"wb\") as f:\n",
    "    f.write(request.content)"
   ]
  },
  {
   "cell_type": "code",
   "execution_count": 20,
   "id": "3a39237a",
   "metadata": {},
   "outputs": [],
   "source": [
    "#importing helper function\n",
    "from helper_functions import accuracy_fn"
   ]
  },
  {
   "cell_type": "code",
   "execution_count": 21,
   "id": "d62539c9",
   "metadata": {},
   "outputs": [],
   "source": [
    "#loss function\n",
    "loss_fn = nn.CrossEntropyLoss()"
   ]
  },
  {
   "cell_type": "code",
   "execution_count": 22,
   "id": "3b5d770c",
   "metadata": {},
   "outputs": [],
   "source": [
    "#optimizer\n",
    "optimizer = torch.optim.SGD(model_0.parameters(), lr = 0.1)"
   ]
  },
  {
   "cell_type": "code",
   "execution_count": 23,
   "id": "98da47ef",
   "metadata": {},
   "outputs": [],
   "source": [
    "#timing our experiments\n",
    "#using timeit.default_timer()\n",
    "\n",
    "from timeit import default_timer as timer\n",
    "\n",
    "def print_train_time(start: float, end: float, device: torch.device = None):\n",
    "    total_time = end - start\n",
    "    print(f\"Train time on {device}: {total_time:.3f} seconds\")\n",
    "    return total_time"
   ]
  },
  {
   "cell_type": "code",
   "execution_count": 24,
   "id": "3b7a5108",
   "metadata": {},
   "outputs": [
    {
     "data": {
      "application/vnd.jupyter.widget-view+json": {
       "model_id": "0dee110bce82447e9750045734af2304",
       "version_major": 2,
       "version_minor": 0
      },
      "text/plain": [
       "  0%|          | 0/10 [00:00<?, ?it/s]"
      ]
     },
     "metadata": {},
     "output_type": "display_data"
    },
    {
     "name": "stdout",
     "output_type": "stream",
     "text": [
      "Epoch: 0\n",
      "----------\n",
      "Looked at 0/60000 samples\n",
      "Looked at 12800/60000 samples\n",
      "Looked at 25600/60000 samples\n",
      "Looked at 38400/60000 samples\n",
      "Looked at 51200/60000 samples\n",
      "Epoch: 0/10 | Trian_loss: 0.59039 | Test_loss: 0.50954 | Test acc: 82.04%\n",
      "Epoch: 1\n",
      "----------\n",
      "Looked at 0/60000 samples\n",
      "Looked at 12800/60000 samples\n",
      "Looked at 25600/60000 samples\n",
      "Looked at 38400/60000 samples\n",
      "Looked at 51200/60000 samples\n",
      "Epoch: 1/10 | Trian_loss: 0.47633 | Test_loss: 0.47989 | Test acc: 83.20%\n",
      "Epoch: 2\n",
      "----------\n",
      "Looked at 0/60000 samples\n",
      "Looked at 12800/60000 samples\n",
      "Looked at 25600/60000 samples\n",
      "Looked at 38400/60000 samples\n",
      "Looked at 51200/60000 samples\n",
      "Epoch: 2/10 | Trian_loss: 0.45503 | Test_loss: 0.47664 | Test acc: 83.43%\n",
      "Epoch: 3\n",
      "----------\n",
      "Looked at 0/60000 samples\n",
      "Looked at 12800/60000 samples\n",
      "Looked at 25600/60000 samples\n",
      "Looked at 38400/60000 samples\n",
      "Looked at 51200/60000 samples\n",
      "Epoch: 3/10 | Trian_loss: 0.44251 | Test_loss: 0.46306 | Test acc: 83.75%\n",
      "Epoch: 4\n",
      "----------\n",
      "Looked at 0/60000 samples\n",
      "Looked at 12800/60000 samples\n",
      "Looked at 25600/60000 samples\n",
      "Looked at 38400/60000 samples\n",
      "Looked at 51200/60000 samples\n",
      "Epoch: 4/10 | Trian_loss: 0.43582 | Test_loss: 0.46869 | Test acc: 83.27%\n",
      "Epoch: 5\n",
      "----------\n",
      "Looked at 0/60000 samples\n",
      "Looked at 12800/60000 samples\n",
      "Looked at 25600/60000 samples\n",
      "Looked at 38400/60000 samples\n",
      "Looked at 51200/60000 samples\n",
      "Epoch: 5/10 | Trian_loss: 0.42915 | Test_loss: 0.45892 | Test acc: 83.64%\n",
      "Epoch: 6\n",
      "----------\n",
      "Looked at 0/60000 samples\n",
      "Looked at 12800/60000 samples\n",
      "Looked at 25600/60000 samples\n",
      "Looked at 38400/60000 samples\n",
      "Looked at 51200/60000 samples\n",
      "Epoch: 6/10 | Trian_loss: 0.42475 | Test_loss: 0.48769 | Test acc: 83.32%\n",
      "Epoch: 7\n",
      "----------\n",
      "Looked at 0/60000 samples\n",
      "Looked at 12800/60000 samples\n",
      "Looked at 25600/60000 samples\n",
      "Looked at 38400/60000 samples\n",
      "Looked at 51200/60000 samples\n",
      "Epoch: 7/10 | Trian_loss: 0.42265 | Test_loss: 0.47223 | Test acc: 83.38%\n",
      "Epoch: 8\n",
      "----------\n",
      "Looked at 0/60000 samples\n",
      "Looked at 12800/60000 samples\n",
      "Looked at 25600/60000 samples\n",
      "Looked at 38400/60000 samples\n",
      "Looked at 51200/60000 samples\n",
      "Epoch: 8/10 | Trian_loss: 0.42032 | Test_loss: 0.47133 | Test acc: 83.46%\n",
      "Epoch: 9\n",
      "----------\n",
      "Looked at 0/60000 samples\n",
      "Looked at 12800/60000 samples\n",
      "Looked at 25600/60000 samples\n",
      "Looked at 38400/60000 samples\n",
      "Looked at 51200/60000 samples\n",
      "Epoch: 9/10 | Trian_loss: 0.41754 | Test_loss: 0.46280 | Test acc: 83.65%\n",
      "Train time on cpu: 264.548 seconds\n"
     ]
    }
   ],
   "source": [
    "from tqdm.auto import tqdm\n",
    "\n",
    "torch.manual_seed(42)\n",
    "train_time_start_on_cpu = timer()\n",
    "\n",
    "epochs = 10\n",
    "\n",
    "for epoch in tqdm(range(epochs)):\n",
    "    print(f\"Epoch: {epoch}\\n----------\")\n",
    "    train_loss = 0\n",
    "    for batch, (X, y) in enumerate(train_dataloader):\n",
    "        model_0.train()\n",
    "        y_pred = model_0(X)\n",
    "        loss = loss_fn(y_pred, y)\n",
    "        train_loss += loss\n",
    "        optimizer.zero_grad()\n",
    "        loss.backward()\n",
    "        optimizer.step()\n",
    "        if batch % 400 == 0:\n",
    "            print(f\"Looked at {batch * len(X)}/{len(train_dataloader.dataset)} samples\")\n",
    "    train_loss /= len(train_dataloader)\n",
    "    \n",
    "    test_loss, test_acc = 0, 0\n",
    "    model_0.eval()\n",
    "    with torch.inference_mode():\n",
    "        for X, y in test_dataloader:\n",
    "            test_pred = model_0(X)\n",
    "            test_loss += loss_fn(test_pred, y)\n",
    "            test_acc += accuracy_fn(y_true = y, y_pred = test_pred.argmax(dim = 1))\n",
    "        test_loss /= len(test_dataloader)\n",
    "        test_acc /= len(test_dataloader)\n",
    "    print(f\"Epoch: {epoch}/{epochs} | Trian_loss: {train_loss:.5f} | Test_loss: {test_loss:.5f} | Test acc: {test_acc:.2f}%\")\n",
    "\n",
    "train_time_end_on_cpu = timer()\n",
    "total_train_time_model_0 = print_train_time(train_time_start_on_cpu, train_time_end_on_cpu, device = str(next(model_0.parameters()).device))"
   ]
  },
  {
   "cell_type": "code",
   "execution_count": 25,
   "id": "ae257e25",
   "metadata": {},
   "outputs": [],
   "source": [
    "#evaluating the model\n",
    "def eval_model(model: torch.nn.Module, dataloader: torch.utils.data.DataLoader, loss_fn: torch.nn.Module, accuracy_fn):\n",
    "    loss, acc = 0, 0\n",
    "    model.eval()\n",
    "    with torch.inference_mode():\n",
    "        for X, y in dataloader:\n",
    "            y_pred = model(X)\n",
    "            loss += loss_fn(y_pred, y)\n",
    "            acc += accuracy_fn(y, y_pred.argmax(dim = 1))\n",
    "        loss /= len(dataloader)\n",
    "        acc /= len(dataloader)\n",
    "    \n",
    "    return {\"model\": model.__class__.__name__, \"loss\": loss.item(), \"acc\": acc}"
   ]
  },
  {
   "cell_type": "code",
   "execution_count": 26,
   "id": "8ae0c29b",
   "metadata": {},
   "outputs": [
    {
     "data": {
      "text/plain": [
       "{'model': 'FashionMNISTModelV0',\n",
       " 'loss': 0.46279823780059814,\n",
       " 'acc': 83.64616613418531}"
      ]
     },
     "execution_count": 26,
     "metadata": {},
     "output_type": "execute_result"
    }
   ],
   "source": [
    "model_0_results = eval_model(model_0, test_dataloader, loss_fn, accuracy_fn)\n",
    "model_0_results"
   ]
  },
  {
   "cell_type": "markdown",
   "id": "244f37ea",
   "metadata": {},
   "source": [
    "# Setup device agnostic-code"
   ]
  },
  {
   "cell_type": "code",
   "execution_count": 27,
   "id": "89c7eb39",
   "metadata": {},
   "outputs": [
    {
     "data": {
      "text/plain": [
       "'cuda'"
      ]
     },
     "execution_count": 27,
     "metadata": {},
     "output_type": "execute_result"
    }
   ],
   "source": [
    "#use gpu if the is one available\n",
    "device = \"cuda\" if torch.cuda.is_available() else \"cpu\"\n",
    "device"
   ]
  },
  {
   "cell_type": "markdown",
   "id": "a14b0690",
   "metadata": {},
   "source": [
    "# Model 1: With Non-Linearity"
   ]
  },
  {
   "cell_type": "code",
   "execution_count": 28,
   "id": "641f1a05",
   "metadata": {},
   "outputs": [],
   "source": [
    "class FashionMNISTModelV1(nn.Module):\n",
    "    def __init__(self, input_features, output_features, hidden_units = 8):\n",
    "        super().__init__()\n",
    "        self.layer_stack = nn.Sequential(\n",
    "            nn.Flatten(),\n",
    "            nn.Linear(in_features = input_features, out_features = hidden_units),\n",
    "            nn.ReLU(),\n",
    "            nn.Linear(in_features = hidden_units, out_features = output_features),\n",
    "            nn.ReLU(),\n",
    "        )\n",
    "    \n",
    "    def forward(self, x: torch.Tensor):\n",
    "        return self.layer_stack(x)"
   ]
  },
  {
   "cell_type": "code",
   "execution_count": 29,
   "id": "1ea24c43",
   "metadata": {},
   "outputs": [
    {
     "data": {
      "text/plain": [
       "FashionMNISTModelV1(\n",
       "  (layer_stack): Sequential(\n",
       "    (0): Flatten(start_dim=1, end_dim=-1)\n",
       "    (1): Linear(in_features=784, out_features=10, bias=True)\n",
       "    (2): ReLU()\n",
       "    (3): Linear(in_features=10, out_features=10, bias=True)\n",
       "    (4): ReLU()\n",
       "  )\n",
       ")"
      ]
     },
     "execution_count": 29,
     "metadata": {},
     "output_type": "execute_result"
    }
   ],
   "source": [
    "torch.manual_seed(42)\n",
    "model_1 = FashionMNISTModelV1(input_features = 784, output_features = len(class_names), hidden_units = 10).to(device)\n",
    "model_1"
   ]
  },
  {
   "cell_type": "code",
   "execution_count": 30,
   "id": "748d341e",
   "metadata": {},
   "outputs": [
    {
     "data": {
      "text/plain": [
       "device(type='cuda', index=0)"
      ]
     },
     "execution_count": 30,
     "metadata": {},
     "output_type": "execute_result"
    }
   ],
   "source": [
    "next(model_1.parameters()).device"
   ]
  },
  {
   "cell_type": "code",
   "execution_count": 31,
   "id": "dfcb2366",
   "metadata": {},
   "outputs": [],
   "source": [
    "#loss function\n",
    "loss_fn = nn.CrossEntropyLoss()"
   ]
  },
  {
   "cell_type": "code",
   "execution_count": 32,
   "id": "9db3d7fb",
   "metadata": {},
   "outputs": [],
   "source": [
    "#optimizer\n",
    "optimizer = torch.optim.SGD(model_1.parameters(), lr = 0.1)"
   ]
  },
  {
   "cell_type": "code",
   "execution_count": 33,
   "id": "78a1f17b",
   "metadata": {},
   "outputs": [],
   "source": [
    "def training_step(model: torch.nn.Module, data_loader: torch.utils.data.DataLoader, loss_fn: torch.nn.Module, optimizer: torch.optim.Optimizer, accuracy_fn, device: torch.device = device):\n",
    "    train_loss, train_acc = 0, 0\n",
    "    model.to(device)\n",
    "    for batch, (X, y) in enumerate(data_loader):\n",
    "        X, y = X.to(device), y.to(device)\n",
    "        model.train()\n",
    "        y_pred = model(X)\n",
    "        loss = loss_fn(y_pred, y)\n",
    "        train_loss += loss\n",
    "        train_acc += accuracy_fn(y_true = y, y_pred = y_pred.argmax(dim = 1))\n",
    "        optimizer.zero_grad()\n",
    "        loss.backward()\n",
    "        optimizer.step()\n",
    "    train_loss /= len(data_loader)\n",
    "    train_acc /= len(data_loader)\n",
    "    print(f\"Train loss: {train_loss:.5f} | Train accuracy: {train_acc:.2f}%\")"
   ]
  },
  {
   "cell_type": "code",
   "execution_count": 34,
   "id": "554e70a3",
   "metadata": {},
   "outputs": [],
   "source": [
    "def testing_step(model: torch.nn.Module, data_loader: torch.utils.data.DataLoader, loss_fn: torch.nn.Module, accuracy_fn, device: torch.device = device):\n",
    "    test_loss, test_acc = 0, 0\n",
    "    model.to(device)\n",
    "    model.eval()\n",
    "    with torch.inference_mode():\n",
    "        for X, y in data_loader:\n",
    "            X, y = X.to(device), y.to(device)\n",
    "            test_pred = model(X)\n",
    "            test_loss += loss_fn(test_pred, y)\n",
    "            test_acc += accuracy_fn(y_true = y, y_pred = test_pred.argmax(dim = 1))\n",
    "        test_loss /= len(data_loader)\n",
    "        test_acc /= len(data_loader)\n",
    "        print(f\"Test loss: {test_loss:.5f} | Test accuracy: {test_acc:.2f}%\\n\")"
   ]
  },
  {
   "cell_type": "code",
   "execution_count": 35,
   "id": "2ac210a0",
   "metadata": {},
   "outputs": [
    {
     "data": {
      "application/vnd.jupyter.widget-view+json": {
       "model_id": "85cc59a351dc44f581dc6fec8a2cd72c",
       "version_major": 2,
       "version_minor": 0
      },
      "text/plain": [
       "  0%|          | 0/10 [00:00<?, ?it/s]"
      ]
     },
     "metadata": {},
     "output_type": "display_data"
    },
    {
     "name": "stdout",
     "output_type": "stream",
     "text": [
      "Epoch: 0\n",
      "----------\n",
      "Train loss: 1.05878 | Train accuracy: 62.19%\n",
      "Test loss: 0.99506 | Test accuracy: 64.13%\n",
      "\n",
      "Epoch: 1\n",
      "----------\n",
      "Train loss: 0.91331 | Train accuracy: 66.40%\n",
      "Test loss: 0.90508 | Test accuracy: 66.86%\n",
      "\n",
      "Epoch: 2\n",
      "----------\n",
      "Train loss: 0.87981 | Train accuracy: 67.25%\n",
      "Test loss: 0.89485 | Test accuracy: 66.47%\n",
      "\n",
      "Epoch: 3\n",
      "----------\n",
      "Train loss: 0.86325 | Train accuracy: 67.61%\n",
      "Test loss: 0.90692 | Test accuracy: 66.51%\n",
      "\n",
      "Epoch: 4\n",
      "----------\n",
      "Train loss: 0.84876 | Train accuracy: 68.11%\n",
      "Test loss: 0.86979 | Test accuracy: 67.16%\n",
      "\n",
      "Epoch: 5\n",
      "----------\n",
      "Train loss: 0.83948 | Train accuracy: 68.33%\n",
      "Test loss: 0.88724 | Test accuracy: 66.80%\n",
      "\n",
      "Epoch: 6\n",
      "----------\n",
      "Train loss: 0.83153 | Train accuracy: 68.58%\n",
      "Test loss: 0.89953 | Test accuracy: 66.31%\n",
      "\n",
      "Epoch: 7\n",
      "----------\n",
      "Train loss: 0.82602 | Train accuracy: 68.69%\n",
      "Test loss: 0.85775 | Test accuracy: 67.99%\n",
      "\n",
      "Epoch: 8\n",
      "----------\n",
      "Train loss: 0.72280 | Train accuracy: 73.14%\n",
      "Test loss: 0.67713 | Test accuracy: 75.32%\n",
      "\n",
      "Epoch: 9\n",
      "----------\n",
      "Train loss: 0.62805 | Train accuracy: 76.74%\n",
      "Test loss: 0.70159 | Test accuracy: 74.71%\n",
      "\n",
      "Train time on cuda: 308.966 seconds\n"
     ]
    }
   ],
   "source": [
    "train_time_start_on_gpu = timer()\n",
    "epochs = 10\n",
    "for epoch in tqdm(range(epochs)):\n",
    "    print(f\"Epoch: {epoch}\\n----------\")\n",
    "    training_step(model_1, train_dataloader, loss_fn, optimizer, accuracy_fn)\n",
    "    testing_step(model_1, test_dataloader, loss_fn, accuracy_fn)\n",
    "train_time_end_on_gpu = timer()\n",
    "total_train_time_model_1 = print_train_time(train_time_start_on_gpu, train_time_end_on_gpu, device = device)"
   ]
  },
  {
   "cell_type": "code",
   "execution_count": 36,
   "id": "6cea906f",
   "metadata": {},
   "outputs": [],
   "source": [
    "#evaluating the model\n",
    "def eval_model(model: torch.nn.Module, dataloader: torch.utils.data.DataLoader, loss_fn: torch.nn.Module, accuracy_fn, device: torch.device = device):\n",
    "    loss, acc = 0, 0\n",
    "    model.eval()\n",
    "    with torch.inference_mode():\n",
    "        for X, y in dataloader:\n",
    "            X, y = X.to(device), y.to(device)\n",
    "            y_pred = model(X)\n",
    "            loss += loss_fn(y_pred, y)\n",
    "            acc += accuracy_fn(y, y_pred.argmax(dim = 1))\n",
    "        loss /= len(dataloader)\n",
    "        acc /= len(dataloader)\n",
    "    \n",
    "    return {\"model\": model.__class__.__name__, \"loss\": loss.item(), \"acc\": acc}"
   ]
  },
  {
   "cell_type": "code",
   "execution_count": 37,
   "id": "e34d7291",
   "metadata": {},
   "outputs": [
    {
     "data": {
      "text/plain": [
       "{'model': 'FashionMNISTModelV1',\n",
       " 'loss': 0.7015937566757202,\n",
       " 'acc': 74.71046325878594}"
      ]
     },
     "execution_count": 37,
     "metadata": {},
     "output_type": "execute_result"
    }
   ],
   "source": [
    "model_1_results = eval_model(model_1, test_dataloader, loss_fn, accuracy_fn, device = device)\n",
    "model_1_results"
   ]
  },
  {
   "cell_type": "markdown",
   "id": "2830d4eb",
   "metadata": {},
   "source": [
    "# Model 2: Convolutional Neural Network"
   ]
  },
  {
   "cell_type": "markdown",
   "id": "96411203",
   "metadata": {},
   "source": [
    "Input layer -> \\[Convolutional layer -> acitvation layer -> pooling layer\\] -> Output layer\n",
    "where \\[Convolutional layer -> acitvation layer -> pooling layer\\] can be upscaled"
   ]
  },
  {
   "cell_type": "code",
   "execution_count": 38,
   "id": "ea7de0d5",
   "metadata": {},
   "outputs": [],
   "source": [
    "class FashionMNISTModelV2(nn.Module):\n",
    "    def __init__(self, input_features: int, output_features: int, hidden_units: int):\n",
    "        super().__init__()\n",
    "        self.block_1 = nn.Sequential(\n",
    "            nn.Conv2d(in_channels = input_features, out_channels = hidden_units, kernel_size = 3, stride = 1, padding = 1),\n",
    "            nn.ReLU(),\n",
    "            nn.Conv2d(in_channels = hidden_units, out_channels = hidden_units, kernel_size = 3, stride = 1, padding = 1),\n",
    "            nn.ReLU(),\n",
    "            nn.MaxPool2d(kernel_size = 2, stride = 2),\n",
    "        )\n",
    "        self.block_2 = nn.Sequential(\n",
    "            nn.Conv2d(hidden_units, hidden_units, 3, padding = 1),\n",
    "            nn.ReLU(),\n",
    "            nn.Conv2d(hidden_units, hidden_units, 3, padding = 1),\n",
    "            nn.ReLU(),\n",
    "            nn.MaxPool2d(kernel_size = 2, stride = 2),\n",
    "        )\n",
    "        self.classifier = nn.Sequential(\n",
    "            nn.Flatten(),\n",
    "            nn.Linear(in_features = hidden_units * 7 * 7, out_features = output_features),\n",
    "        )\n",
    "    \n",
    "    def forward(self, x):\n",
    "        return self.classifier(self.block_2(self.block_1(x)))"
   ]
  },
  {
   "cell_type": "code",
   "execution_count": 39,
   "id": "ce9b0378",
   "metadata": {},
   "outputs": [
    {
     "data": {
      "text/plain": [
       "FashionMNISTModelV2(\n",
       "  (block_1): Sequential(\n",
       "    (0): Conv2d(1, 10, kernel_size=(3, 3), stride=(1, 1), padding=(1, 1))\n",
       "    (1): ReLU()\n",
       "    (2): Conv2d(10, 10, kernel_size=(3, 3), stride=(1, 1), padding=(1, 1))\n",
       "    (3): ReLU()\n",
       "    (4): MaxPool2d(kernel_size=2, stride=2, padding=0, dilation=1, ceil_mode=False)\n",
       "  )\n",
       "  (block_2): Sequential(\n",
       "    (0): Conv2d(10, 10, kernel_size=(3, 3), stride=(1, 1), padding=(1, 1))\n",
       "    (1): ReLU()\n",
       "    (2): Conv2d(10, 10, kernel_size=(3, 3), stride=(1, 1), padding=(1, 1))\n",
       "    (3): ReLU()\n",
       "    (4): MaxPool2d(kernel_size=2, stride=2, padding=0, dilation=1, ceil_mode=False)\n",
       "  )\n",
       "  (classifier): Sequential(\n",
       "    (0): Flatten(start_dim=1, end_dim=-1)\n",
       "    (1): Linear(in_features=490, out_features=10, bias=True)\n",
       "  )\n",
       ")"
      ]
     },
     "execution_count": 39,
     "metadata": {},
     "output_type": "execute_result"
    }
   ],
   "source": [
    "torch.manual_seed(42)\n",
    "model_2 = FashionMNISTModelV2(input_features = 1, output_features = len(class_names), hidden_units = 10).to(device)\n",
    "model_2"
   ]
  },
  {
   "cell_type": "code",
   "execution_count": 40,
   "id": "82843ff7",
   "metadata": {
    "scrolled": true
   },
   "outputs": [
    {
     "name": "stdout",
     "output_type": "stream",
     "text": [
      "Image batch shape: torch.Size([32, 3, 64, 64]) -> [batch_size, color_channels, height, width]\n",
      "Single image shape: torch.Size([3, 64, 64]) -> [color_channels, height, width]\n",
      "Single image pixel value: tensor([[[ 1.9269,  1.4873,  0.9007,  ...,  1.8446, -1.1845,  1.3835],\n",
      "         [ 1.4451,  0.8564,  2.2181,  ...,  0.3399,  0.7200,  0.4114],\n",
      "         [ 1.9312,  1.0119, -1.4364,  ..., -0.5558,  0.7043,  0.7099],\n",
      "         ...,\n",
      "         [-0.5610, -0.4830,  0.4770,  ..., -0.2713, -0.9537, -0.6737],\n",
      "         [ 0.3076, -0.1277,  0.0366,  ..., -2.0060,  0.2824, -0.8111],\n",
      "         [-1.5486,  0.0485, -0.7712,  ..., -0.1403,  0.9416, -0.0118]],\n",
      "\n",
      "        [[-0.5197,  1.8524,  1.8365,  ...,  0.8935, -1.5114, -0.8515],\n",
      "         [ 2.0818,  1.0677, -1.4277,  ...,  1.6612, -2.6223, -0.4319],\n",
      "         [-0.1010, -0.4388, -1.9775,  ...,  0.2106,  0.2536, -0.7318],\n",
      "         ...,\n",
      "         [ 0.2779,  0.7342, -0.3736,  ..., -0.4601,  0.1815,  0.1850],\n",
      "         [ 0.7205, -0.2833,  0.0937,  ..., -0.1002, -2.3609,  2.2465],\n",
      "         [-1.3242, -0.1973,  0.2920,  ...,  0.5409,  0.6940,  1.8563]],\n",
      "\n",
      "        [[-0.7978,  1.0261,  1.1465,  ...,  1.2134,  0.9354, -0.0780],\n",
      "         [-1.4647, -1.9571,  0.1017,  ..., -1.9986, -0.7409,  0.7011],\n",
      "         [-1.3938,  0.8466, -1.7191,  ..., -1.1867,  0.1320,  0.3407],\n",
      "         ...,\n",
      "         [ 0.8206, -0.3745,  1.2499,  ..., -0.0676,  0.0385,  0.6335],\n",
      "         [-0.5589, -0.3393,  0.2347,  ...,  2.1181,  2.4569,  1.3083],\n",
      "         [-0.4092,  1.5199,  0.2401,  ..., -0.2558,  0.7870,  0.9924]]])\n"
     ]
    }
   ],
   "source": [
    "torch.manual_seed(42)\n",
    "\n",
    "images = torch.randn(size = (32, 3, 64, 64))\n",
    "test_image = images[0]\n",
    "print(f\"Image batch shape: {images.shape} -> [batch_size, color_channels, height, width]\")\n",
    "print(f\"Single image shape: {test_image.shape} -> [color_channels, height, width]\")\n",
    "print(f\"Single image pixel value: {test_image}\")"
   ]
  },
  {
   "cell_type": "code",
   "execution_count": 41,
   "id": "e6b98d89",
   "metadata": {
    "scrolled": true
   },
   "outputs": [
    {
     "name": "stdout",
     "output_type": "stream",
     "text": [
      "torch.Size([1, 10, 62, 62])\n",
      "tensor([[[[ 1.5396,  0.0516,  0.6454,  ..., -0.3673,  0.8711,  0.4256],\n",
      "          [ 0.3662,  1.0114, -0.5997,  ...,  0.8983,  0.2809, -0.2741],\n",
      "          [ 1.2664, -1.4054,  0.3727,  ..., -0.3409,  1.2191, -0.0463],\n",
      "          ...,\n",
      "          [-0.1541,  0.5132, -0.3624,  ..., -0.2360, -0.4609, -0.0035],\n",
      "          [ 0.2981, -0.2432,  1.5012,  ..., -0.6289, -0.7283, -0.5767],\n",
      "          [-0.0386, -0.0781, -0.0388,  ...,  0.2842,  0.4228, -0.1802]],\n",
      "\n",
      "         [[-0.2840, -0.0319, -0.4455,  ..., -0.7956,  1.5599, -1.2449],\n",
      "          [ 0.2753, -0.1262, -0.6541,  ..., -0.2211,  0.1999, -0.8856],\n",
      "          [-0.5404, -1.5489,  0.0249,  ..., -0.5932, -1.0913, -0.3849],\n",
      "          ...,\n",
      "          [ 0.3870, -0.4064, -0.8236,  ...,  0.1734, -0.4330, -0.4951],\n",
      "          [-0.1984, -0.6386,  1.0263,  ..., -0.9401, -0.0585, -0.7833],\n",
      "          [-0.6306, -0.2052, -0.3694,  ..., -1.3248,  0.2456, -0.7134]],\n",
      "\n",
      "         [[ 0.4414,  0.5100,  0.4846,  ..., -0.8484,  0.2638,  1.1258],\n",
      "          [ 0.8117,  0.3191, -0.0157,  ...,  1.2686,  0.2319,  0.5003],\n",
      "          [ 0.3212,  0.0485, -0.2581,  ...,  0.2258,  0.2587, -0.8804],\n",
      "          ...,\n",
      "          [-0.1144, -0.1869,  0.0160,  ..., -0.8346,  0.0974,  0.8421],\n",
      "          [ 0.2941,  0.4417,  0.5866,  ..., -0.1224,  0.4814, -0.4799],\n",
      "          [ 0.6059, -0.0415, -0.2028,  ...,  0.1170,  0.2521, -0.4372]],\n",
      "\n",
      "         ...,\n",
      "\n",
      "         [[-0.2560, -0.0477,  0.6380,  ...,  0.6436,  0.7553, -0.7055],\n",
      "          [ 1.5595, -0.2209, -0.9486,  ..., -0.4876,  0.7754,  0.0750],\n",
      "          [-0.0797,  0.2471,  1.1300,  ...,  0.1505,  0.2354,  0.9576],\n",
      "          ...,\n",
      "          [ 1.1065,  0.6839,  1.2183,  ...,  0.3015, -0.1910, -0.1902],\n",
      "          [-0.3486, -0.7173, -0.3582,  ...,  0.4917,  0.7219,  0.1513],\n",
      "          [ 0.0119,  0.1017,  0.7839,  ..., -0.3752, -0.8127, -0.1257]],\n",
      "\n",
      "         [[ 0.3841,  1.1322,  0.1620,  ...,  0.7010,  0.0109,  0.6058],\n",
      "          [ 0.1664,  0.1873,  1.5924,  ...,  0.3733,  0.9096, -0.5399],\n",
      "          [ 0.4094, -0.0861, -0.7935,  ..., -0.1285, -0.9932, -0.3013],\n",
      "          ...,\n",
      "          [ 0.2688, -0.5630, -1.1902,  ...,  0.4493,  0.5404, -0.0103],\n",
      "          [ 0.0535,  0.4411,  0.5313,  ...,  0.0148, -1.0056,  0.3759],\n",
      "          [ 0.3031, -0.1590, -0.1316,  ..., -0.5384, -0.4271, -0.4876]],\n",
      "\n",
      "         [[-1.1865, -0.7280, -1.2331,  ..., -0.9013, -0.0542, -1.5949],\n",
      "          [-0.6345, -0.5920,  0.5326,  ..., -1.0395, -0.7963, -0.0647],\n",
      "          [-0.1132,  0.5166,  0.2569,  ...,  0.5595, -1.6881,  0.9485],\n",
      "          ...,\n",
      "          [-0.0254, -0.2669,  0.1927,  ..., -0.2917,  0.1088, -0.4807],\n",
      "          [-0.2609, -0.2328,  0.1404,  ..., -0.1325, -0.8436, -0.7524],\n",
      "          [-1.1399, -0.1751, -0.8705,  ...,  0.1589,  0.3377,  0.3493]]]],\n",
      "       grad_fn=<ConvolutionBackward0>)\n"
     ]
    }
   ],
   "source": [
    "torch.manual_seed(42)\n",
    "conv_layer = nn.Conv2d(in_channels = 3, out_channels = 10, kernel_size = 3, stride = 1, padding = 0)\n",
    "conv_image = conv_layer(test_image.unsqueeze(dim = 0))\n",
    "print(conv_image.shape)\n",
    "print(conv_image)"
   ]
  },
  {
   "cell_type": "code",
   "execution_count": 42,
   "id": "8c6da424",
   "metadata": {},
   "outputs": [
    {
     "data": {
      "text/plain": [
       "OrderedDict([('weight',\n",
       "              tensor([[[[ 0.1471,  0.1597, -0.0451],\n",
       "                        [ 0.1768, -0.0422,  0.0388],\n",
       "                        [-0.0937,  0.1130,  0.1697]],\n",
       "              \n",
       "                       [[-0.1412,  0.1673,  0.0360],\n",
       "                        [ 0.1422,  0.0261,  0.0928],\n",
       "                        [-0.0272,  0.1484,  0.0284]],\n",
       "              \n",
       "                       [[-0.0898,  0.0491, -0.0887],\n",
       "                        [-0.0226, -0.0782,  0.1277],\n",
       "                        [-0.1519, -0.0887, -0.0543]]],\n",
       "              \n",
       "              \n",
       "                      [[[-0.1157,  0.0182, -0.1901],\n",
       "                        [ 0.1738, -0.1635,  0.1486],\n",
       "                        [ 0.0320, -0.0625,  0.1189]],\n",
       "              \n",
       "                       [[ 0.0300,  0.1555,  0.0210],\n",
       "                        [-0.0607,  0.0517, -0.0522],\n",
       "                        [ 0.0810,  0.1718,  0.1112]],\n",
       "              \n",
       "                       [[-0.0841,  0.1111,  0.0344],\n",
       "                        [ 0.0977, -0.1173, -0.1905],\n",
       "                        [-0.0744, -0.1476,  0.1579]]],\n",
       "              \n",
       "              \n",
       "                      [[[ 0.0554,  0.0797,  0.0609],\n",
       "                        [-0.0033,  0.1506, -0.1367],\n",
       "                        [ 0.0121, -0.1314,  0.0593]],\n",
       "              \n",
       "                       [[-0.0663,  0.0590, -0.0401],\n",
       "                        [ 0.1596, -0.1141, -0.1148],\n",
       "                        [-0.1148,  0.1731,  0.0641]],\n",
       "              \n",
       "                       [[ 0.1852, -0.1588, -0.1909],\n",
       "                        [-0.1506, -0.1295,  0.0780],\n",
       "                        [ 0.0689,  0.1599, -0.0994]]],\n",
       "              \n",
       "              \n",
       "                      [[[-0.1312,  0.1021, -0.0778],\n",
       "                        [ 0.1168, -0.0457,  0.1101],\n",
       "                        [-0.1495, -0.0971,  0.0587]],\n",
       "              \n",
       "                       [[ 0.0407, -0.0491,  0.1147],\n",
       "                        [ 0.1308, -0.1396, -0.1027],\n",
       "                        [ 0.1762, -0.0649, -0.0682]],\n",
       "              \n",
       "                       [[-0.1862, -0.1102,  0.0481],\n",
       "                        [-0.0254, -0.1397,  0.0045],\n",
       "                        [-0.1315, -0.1633, -0.1060]]],\n",
       "              \n",
       "              \n",
       "                      [[[-0.1684, -0.1225,  0.1924],\n",
       "                        [ 0.0363,  0.0593, -0.1795],\n",
       "                        [-0.1264, -0.0641,  0.0301]],\n",
       "              \n",
       "                       [[-0.1693, -0.0829, -0.1152],\n",
       "                        [ 0.0005, -0.0716, -0.0133],\n",
       "                        [-0.1304, -0.1321, -0.1123]],\n",
       "              \n",
       "                       [[-0.0659, -0.1519,  0.1614],\n",
       "                        [-0.0382,  0.1656,  0.0600],\n",
       "                        [-0.1630,  0.1332, -0.0530]]],\n",
       "              \n",
       "              \n",
       "                      [[[-0.0738, -0.1597, -0.1913],\n",
       "                        [ 0.0551, -0.0420,  0.0749],\n",
       "                        [-0.1579,  0.1429, -0.1413]],\n",
       "              \n",
       "                       [[-0.0332,  0.0402,  0.0994],\n",
       "                        [ 0.1554,  0.1753, -0.1526],\n",
       "                        [ 0.0484, -0.0828, -0.0211]],\n",
       "              \n",
       "                       [[-0.1440,  0.1753, -0.1412],\n",
       "                        [ 0.1029,  0.0676,  0.0625],\n",
       "                        [-0.1040,  0.1749,  0.0423]]],\n",
       "              \n",
       "              \n",
       "                      [[[ 0.0248, -0.1696,  0.0808],\n",
       "                        [-0.0289, -0.0882,  0.1653],\n",
       "                        [ 0.0429, -0.1065, -0.0974]],\n",
       "              \n",
       "                       [[-0.0092,  0.1075, -0.0492],\n",
       "                        [-0.1098, -0.0659, -0.1438],\n",
       "                        [ 0.0686,  0.1490, -0.1812]],\n",
       "              \n",
       "                       [[ 0.0447,  0.0994,  0.0349],\n",
       "                        [-0.0685,  0.1004,  0.1011],\n",
       "                        [ 0.0720, -0.0338, -0.0510]]],\n",
       "              \n",
       "              \n",
       "                      [[[ 0.0206, -0.0340, -0.0574],\n",
       "                        [ 0.1230,  0.1654, -0.0191],\n",
       "                        [-0.0431,  0.0028, -0.0115]],\n",
       "              \n",
       "                       [[ 0.0463,  0.0539, -0.1748],\n",
       "                        [-0.0710,  0.1621,  0.0750],\n",
       "                        [-0.0096, -0.1160, -0.1177]],\n",
       "              \n",
       "                       [[-0.1724, -0.0627,  0.0650],\n",
       "                        [ 0.1227,  0.0889, -0.1701],\n",
       "                        [-0.1157, -0.0304,  0.1862]]],\n",
       "              \n",
       "              \n",
       "                      [[[ 0.0278, -0.0498,  0.0796],\n",
       "                        [-0.0733, -0.1246,  0.1405],\n",
       "                        [-0.0875, -0.0386, -0.1915]],\n",
       "              \n",
       "                       [[ 0.1288,  0.1458,  0.0701],\n",
       "                        [-0.1342, -0.1899, -0.1563],\n",
       "                        [ 0.1435,  0.0924,  0.1619]],\n",
       "              \n",
       "                       [[ 0.1008,  0.0487, -0.0019],\n",
       "                        [-0.1464, -0.1649, -0.1800],\n",
       "                        [ 0.0788, -0.0945, -0.0387]]],\n",
       "              \n",
       "              \n",
       "                      [[[-0.1108, -0.0351, -0.1355],\n",
       "                        [-0.1257,  0.0638, -0.0572],\n",
       "                        [ 0.1188, -0.0617, -0.1412]],\n",
       "              \n",
       "                       [[-0.0340, -0.0933, -0.0589],\n",
       "                        [-0.1832,  0.1077, -0.1340],\n",
       "                        [ 0.0967,  0.0873,  0.1375]],\n",
       "              \n",
       "                       [[-0.1476,  0.1384, -0.0910],\n",
       "                        [ 0.0714,  0.1807, -0.0271],\n",
       "                        [-0.0015, -0.0443, -0.1607]]]])),\n",
       "             ('bias',\n",
       "              tensor([ 0.0924, -0.1910,  0.1195,  0.1440,  0.1820, -0.0454, -0.1581,  0.0433,\n",
       "                       0.1063, -0.1915]))])"
      ]
     },
     "execution_count": 42,
     "metadata": {},
     "output_type": "execute_result"
    }
   ],
   "source": [
    "conv_layer.state_dict()"
   ]
  },
  {
   "cell_type": "code",
   "execution_count": 43,
   "id": "64b4e67e",
   "metadata": {},
   "outputs": [
    {
     "name": "stdout",
     "output_type": "stream",
     "text": [
      "torch.Size([10, 3, 3, 3])  -> [out_channels, in_channels, kernel_size, kernel_size]\n",
      "torch.Size([10])  -> [out_channels]\n"
     ]
    }
   ],
   "source": [
    "print(conv_layer.weight.shape, \" -> [out_channels, in_channels, kernel_size, kernel_size]\")\n",
    "print(conv_layer.bias.shape, \" -> [out_channels]\")"
   ]
  },
  {
   "cell_type": "code",
   "execution_count": 44,
   "id": "e28cb9e2",
   "metadata": {},
   "outputs": [
    {
     "name": "stdout",
     "output_type": "stream",
     "text": [
      "Test image original shape torch.Size([3, 64, 64])\n",
      "Test image with unsqueezed dimension: torch.Size([1, 3, 64, 64])\n"
     ]
    }
   ],
   "source": [
    "print(f\"Test image original shape {test_image.shape}\")\n",
    "print(f\"Test image with unsqueezed dimension: {test_image.unsqueeze(dim = 0).shape}\")"
   ]
  },
  {
   "cell_type": "code",
   "execution_count": 45,
   "id": "eeccd98c",
   "metadata": {},
   "outputs": [],
   "source": [
    "max_pool_layer = nn.MaxPool2d(kernel_size = 2)"
   ]
  },
  {
   "cell_type": "code",
   "execution_count": 46,
   "id": "9a01055c",
   "metadata": {},
   "outputs": [
    {
     "name": "stdout",
     "output_type": "stream",
     "text": [
      "Shape after going through conv_layer(): torch.Size([1, 10, 62, 62])\n"
     ]
    }
   ],
   "source": [
    "test_image_through_conv = conv_layer(test_image.unsqueeze(dim = 0))\n",
    "print(f\"Shape after going through conv_layer(): {test_image_through_conv.shape}\")"
   ]
  },
  {
   "cell_type": "code",
   "execution_count": 47,
   "id": "7824f8f5",
   "metadata": {},
   "outputs": [
    {
     "name": "stdout",
     "output_type": "stream",
     "text": [
      "Shape after going through conv_layer() and max_pool_layer(): torch.Size([1, 10, 31, 31])\n"
     ]
    }
   ],
   "source": [
    "test_image_through_conv_and_max_pool = max_pool_layer(test_image_through_conv)\n",
    "print(f\"Shape after going through conv_layer() and max_pool_layer(): {test_image_through_conv_and_max_pool.shape}\")"
   ]
  },
  {
   "cell_type": "code",
   "execution_count": 48,
   "id": "cdb22e94",
   "metadata": {},
   "outputs": [
    {
     "data": {
      "text/plain": [
       "<torch._C.Generator at 0x231c0a30150>"
      ]
     },
     "execution_count": 48,
     "metadata": {},
     "output_type": "execute_result"
    }
   ],
   "source": [
    "torch.manual_seed(42)"
   ]
  },
  {
   "cell_type": "code",
   "execution_count": 49,
   "id": "a79c3c6a",
   "metadata": {},
   "outputs": [
    {
     "name": "stdout",
     "output_type": "stream",
     "text": [
      "Random tensor:\n",
      "tensor([[[[ 1.9269,  1.4873,  0.9007, -2.1055],\n",
      "          [ 0.6784, -1.2345, -0.0431, -1.6047],\n",
      "          [-0.7521,  1.6487, -0.3925, -1.4036],\n",
      "          [-0.7279, -0.5594, -0.7688,  0.7624]]]])\n",
      "Random tensor shape: torch.Size([1, 1, 4, 4])\n"
     ]
    }
   ],
   "source": [
    "random_tensor = torch.randn(size = (1, 1, 4, 4))\n",
    "print(f\"Random tensor:\\n{random_tensor}\")\n",
    "print(f\"Random tensor shape: {random_tensor.shape}\")"
   ]
  },
  {
   "cell_type": "code",
   "execution_count": 50,
   "id": "97983a16",
   "metadata": {},
   "outputs": [],
   "source": [
    "max_pool_layer = nn.MaxPool2d(kernel_size = 2)"
   ]
  },
  {
   "cell_type": "code",
   "execution_count": 51,
   "id": "2656af38",
   "metadata": {},
   "outputs": [
    {
     "name": "stdout",
     "output_type": "stream",
     "text": [
      "\n",
      "Max pool tensor:\n",
      "tensor([[[[1.9269, 0.9007],\n",
      "          [1.6487, 0.7624]]]]) <- this is the maximum value from random_tensor\n",
      "Max pool tensor shape: torch.Size([1, 1, 2, 2])\n"
     ]
    }
   ],
   "source": [
    "max_pool_tensor = max_pool_layer(random_tensor)\n",
    "print(f\"\\nMax pool tensor:\\n{max_pool_tensor} <- this is the maximum value from random_tensor\")\n",
    "print(f\"Max pool tensor shape: {max_pool_tensor.shape}\")"
   ]
  },
  {
   "cell_type": "code",
   "execution_count": 52,
   "id": "8bde344b",
   "metadata": {},
   "outputs": [],
   "source": [
    "#loss function\n",
    "loss_fn = nn.CrossEntropyLoss()\n",
    "optimizer = torch.optim.SGD(params = model_2.parameters(), lr = 0.1)"
   ]
  },
  {
   "cell_type": "code",
   "execution_count": 53,
   "id": "28405288",
   "metadata": {},
   "outputs": [
    {
     "data": {
      "application/vnd.jupyter.widget-view+json": {
       "model_id": "05e5133ea44b42688c500c8e3f0a7ee4",
       "version_major": 2,
       "version_minor": 0
      },
      "text/plain": [
       "  0%|          | 0/10 [00:00<?, ?it/s]"
      ]
     },
     "metadata": {},
     "output_type": "display_data"
    },
    {
     "name": "stdout",
     "output_type": "stream",
     "text": [
      "Epoch: 0\n",
      "----------\n",
      "Train loss: 0.59386 | Train accuracy: 78.42%\n",
      "Test loss: 0.39675 | Test accuracy: 86.18%\n",
      "\n",
      "Epoch: 1\n",
      "----------\n",
      "Train loss: 0.35365 | Train accuracy: 87.31%\n",
      "Test loss: 0.34985 | Test accuracy: 87.35%\n",
      "\n",
      "Epoch: 2\n",
      "----------\n",
      "Train loss: 0.31540 | Train accuracy: 88.62%\n",
      "Test loss: 0.31496 | Test accuracy: 88.71%\n",
      "\n",
      "Epoch: 3\n",
      "----------\n",
      "Train loss: 0.29510 | Train accuracy: 89.31%\n",
      "Test loss: 0.31448 | Test accuracy: 88.45%\n",
      "\n",
      "Epoch: 4\n",
      "----------\n",
      "Train loss: 0.28245 | Train accuracy: 89.78%\n",
      "Test loss: 0.28981 | Test accuracy: 89.82%\n",
      "\n",
      "Epoch: 5\n",
      "----------\n",
      "Train loss: 0.27348 | Train accuracy: 90.05%\n",
      "Test loss: 0.29630 | Test accuracy: 89.53%\n",
      "\n",
      "Epoch: 6\n",
      "----------\n",
      "Train loss: 0.26404 | Train accuracy: 90.44%\n",
      "Test loss: 0.27928 | Test accuracy: 90.04%\n",
      "\n",
      "Epoch: 7\n",
      "----------\n",
      "Train loss: 0.25678 | Train accuracy: 90.70%\n",
      "Test loss: 0.28220 | Test accuracy: 89.74%\n",
      "\n",
      "Epoch: 8\n",
      "----------\n",
      "Train loss: 0.25144 | Train accuracy: 90.89%\n",
      "Test loss: 0.28698 | Test accuracy: 89.81%\n",
      "\n",
      "Epoch: 9\n",
      "----------\n",
      "Train loss: 0.24498 | Train accuracy: 91.09%\n",
      "Test loss: 0.28635 | Test accuracy: 89.45%\n",
      "\n",
      "Train time on cuda: 397.288 seconds\n"
     ]
    }
   ],
   "source": [
    "torch.manual_seed(42)\n",
    "\n",
    "from timeit import default_timer as timer\n",
    "train_time_start_model_2 = timer()\n",
    "\n",
    "epochs = 10\n",
    "for epoch in tqdm(range(epochs)):\n",
    "    print(f\"Epoch: {epoch}\\n----------\")\n",
    "    training_step(data_loader = train_dataloader, model = model_2, loss_fn = loss_fn, optimizer = optimizer, accuracy_fn = accuracy_fn, device = device)\n",
    "    testing_step(data_loader = test_dataloader, model = model_2, loss_fn = loss_fn, accuracy_fn = accuracy_fn, device = device)\n",
    "    \n",
    "train_time_end_model_2 = timer()\n",
    "total_train_time_model_2 = print_train_time(start = train_time_start_model_2, end = train_time_end_model_2, device = device)"
   ]
  },
  {
   "cell_type": "code",
   "execution_count": 54,
   "id": "8bf5f2e1",
   "metadata": {},
   "outputs": [
    {
     "data": {
      "text/plain": [
       "{'model': 'FashionMNISTModelV2',\n",
       " 'loss': 0.28635212779045105,\n",
       " 'acc': 89.44688498402556}"
      ]
     },
     "execution_count": 54,
     "metadata": {},
     "output_type": "execute_result"
    }
   ],
   "source": [
    "model_2_results = eval_model(model = model_2, dataloader = test_dataloader, loss_fn = loss_fn, accuracy_fn = accuracy_fn)\n",
    "model_2_results"
   ]
  },
  {
   "cell_type": "code",
   "execution_count": 55,
   "id": "39404909",
   "metadata": {},
   "outputs": [
    {
     "data": {
      "text/html": [
       "<div>\n",
       "<style scoped>\n",
       "    .dataframe tbody tr th:only-of-type {\n",
       "        vertical-align: middle;\n",
       "    }\n",
       "\n",
       "    .dataframe tbody tr th {\n",
       "        vertical-align: top;\n",
       "    }\n",
       "\n",
       "    .dataframe thead th {\n",
       "        text-align: right;\n",
       "    }\n",
       "</style>\n",
       "<table border=\"1\" class=\"dataframe\">\n",
       "  <thead>\n",
       "    <tr style=\"text-align: right;\">\n",
       "      <th></th>\n",
       "      <th>model</th>\n",
       "      <th>loss</th>\n",
       "      <th>acc</th>\n",
       "    </tr>\n",
       "  </thead>\n",
       "  <tbody>\n",
       "    <tr>\n",
       "      <th>0</th>\n",
       "      <td>FashionMNISTModelV0</td>\n",
       "      <td>0.462798</td>\n",
       "      <td>83.646166</td>\n",
       "    </tr>\n",
       "    <tr>\n",
       "      <th>1</th>\n",
       "      <td>FashionMNISTModelV1</td>\n",
       "      <td>0.701594</td>\n",
       "      <td>74.710463</td>\n",
       "    </tr>\n",
       "    <tr>\n",
       "      <th>2</th>\n",
       "      <td>FashionMNISTModelV2</td>\n",
       "      <td>0.286352</td>\n",
       "      <td>89.446885</td>\n",
       "    </tr>\n",
       "  </tbody>\n",
       "</table>\n",
       "</div>"
      ],
      "text/plain": [
       "                 model      loss        acc\n",
       "0  FashionMNISTModelV0  0.462798  83.646166\n",
       "1  FashionMNISTModelV1  0.701594  74.710463\n",
       "2  FashionMNISTModelV2  0.286352  89.446885"
      ]
     },
     "execution_count": 55,
     "metadata": {},
     "output_type": "execute_result"
    }
   ],
   "source": [
    "compare_results = pd.DataFrame([model_0_results, model_1_results, model_2_results])\n",
    "compare_results"
   ]
  },
  {
   "cell_type": "code",
   "execution_count": 56,
   "id": "ce52d978",
   "metadata": {},
   "outputs": [
    {
     "data": {
      "text/html": [
       "<div>\n",
       "<style scoped>\n",
       "    .dataframe tbody tr th:only-of-type {\n",
       "        vertical-align: middle;\n",
       "    }\n",
       "\n",
       "    .dataframe tbody tr th {\n",
       "        vertical-align: top;\n",
       "    }\n",
       "\n",
       "    .dataframe thead th {\n",
       "        text-align: right;\n",
       "    }\n",
       "</style>\n",
       "<table border=\"1\" class=\"dataframe\">\n",
       "  <thead>\n",
       "    <tr style=\"text-align: right;\">\n",
       "      <th></th>\n",
       "      <th>model</th>\n",
       "      <th>loss</th>\n",
       "      <th>acc</th>\n",
       "      <th>training_time</th>\n",
       "    </tr>\n",
       "  </thead>\n",
       "  <tbody>\n",
       "    <tr>\n",
       "      <th>0</th>\n",
       "      <td>FashionMNISTModelV0</td>\n",
       "      <td>0.462798</td>\n",
       "      <td>83.646166</td>\n",
       "      <td>264.547839</td>\n",
       "    </tr>\n",
       "    <tr>\n",
       "      <th>1</th>\n",
       "      <td>FashionMNISTModelV1</td>\n",
       "      <td>0.701594</td>\n",
       "      <td>74.710463</td>\n",
       "      <td>308.966440</td>\n",
       "    </tr>\n",
       "    <tr>\n",
       "      <th>2</th>\n",
       "      <td>FashionMNISTModelV2</td>\n",
       "      <td>0.286352</td>\n",
       "      <td>89.446885</td>\n",
       "      <td>397.288365</td>\n",
       "    </tr>\n",
       "  </tbody>\n",
       "</table>\n",
       "</div>"
      ],
      "text/plain": [
       "                 model      loss        acc  training_time\n",
       "0  FashionMNISTModelV0  0.462798  83.646166     264.547839\n",
       "1  FashionMNISTModelV1  0.701594  74.710463     308.966440\n",
       "2  FashionMNISTModelV2  0.286352  89.446885     397.288365"
      ]
     },
     "execution_count": 56,
     "metadata": {},
     "output_type": "execute_result"
    }
   ],
   "source": [
    "compare_results[\"training_time\"] = [total_train_time_model_0, total_train_time_model_1, total_train_time_model_2]\n",
    "compare_results"
   ]
  },
  {
   "cell_type": "code",
   "execution_count": 57,
   "id": "2d8e553d",
   "metadata": {},
   "outputs": [
    {
     "data": {
      "text/plain": [
       "Text(0, 0.5, 'model')"
      ]
     },
     "execution_count": 57,
     "metadata": {},
     "output_type": "execute_result"
    },
    {
     "data": {
      "image/png": "[encoded data removed]",
      "text/plain": [
       "<Figure size 640x480 with 1 Axes>"
      ]
     },
     "metadata": {},
     "output_type": "display_data"
    }
   ],
   "source": [
    "compare_results.set_index(\"model\")[\"acc\"].plot(kind = \"barh\")\n",
    "plt.xlabel(\"accuracy (%)\")\n",
    "plt.ylabel(\"model\")"
   ]
  },
  {
   "cell_type": "markdown",
   "id": "01c83289",
   "metadata": {},
   "source": [
    "# Evaluate random predictions with best model"
   ]
  },
  {
   "cell_type": "code",
   "execution_count": 58,
   "id": "b85ae0ec",
   "metadata": {},
   "outputs": [],
   "source": [
    "def make_predictions(model: torch.nn.Module, data: list, device: torch.device = device):\n",
    "    pred_probs = []\n",
    "    model.eval()\n",
    "    with torch.inference_mode():\n",
    "        for sample in data:\n",
    "            sample = torch.unsqueeze(sample, dim = 0).to(device)\n",
    "            pred_logit = model(sample)\n",
    "            pred_prob = torch.softmax(pred_logit.squeeze(), dim = 0)\n",
    "            pred_probs.append(pred_prob.cpu())\n",
    "    return torch.stack(pred_probs)"
   ]
  },
  {
   "cell_type": "code",
   "execution_count": 59,
   "id": "ec857ee9",
   "metadata": {},
   "outputs": [
    {
     "name": "stdout",
     "output_type": "stream",
     "text": [
      "9\n",
      "9\n",
      "1\n",
      "5\n",
      "Sandal\n"
     ]
    }
   ],
   "source": [
    "random.seed(42)\n",
    "test_samples = []\n",
    "test_labels = []\n",
    "for sample, label in random.sample(list(test_data), k = 9):\n",
    "    test_samples.append(sample)\n",
    "    test_labels.append(label)\n",
    "print(len(test_samples))\n",
    "print(len(test_labels))\n",
    "print(len(test_samples[0]))\n",
    "print(test_labels[0])\n",
    "print(class_names[test_labels[0]])"
   ]
  },
  {
   "cell_type": "code",
   "execution_count": 60,
   "id": "57cd0d6c",
   "metadata": {},
   "outputs": [
    {
     "data": {
      "text/plain": [
       "tensor([[7.7690e-10, 4.5663e-09, 4.6528e-09, 6.5884e-12, 5.4439e-10, 9.9986e-01,\n",
       "         1.2070e-09, 5.1859e-07, 2.1953e-05, 1.1863e-04],\n",
       "        [1.9535e-02, 9.1302e-01, 3.4083e-04, 1.1887e-02, 4.5047e-02, 2.7079e-06,\n",
       "         9.9429e-03, 7.3215e-05, 1.5415e-05, 1.3445e-04]])"
      ]
     },
     "execution_count": 60,
     "metadata": {},
     "output_type": "execute_result"
    }
   ],
   "source": [
    "pred_probs = make_predictions(model_2, data = test_samples)\n",
    "pred_probs[:2]"
   ]
  },
  {
   "cell_type": "code",
   "execution_count": 61,
   "id": "fe33593e",
   "metadata": {},
   "outputs": [
    {
     "data": {
      "text/plain": [
       "([5, 1, 7, 4, 3, 0, 4, 7, 1], tensor([5, 1, 9, 4, 3, 0, 4, 7, 1]))"
      ]
     },
     "execution_count": 61,
     "metadata": {},
     "output_type": "execute_result"
    }
   ],
   "source": [
    "pred_classes = pred_probs.argmax(dim = 1)\n",
    "test_labels, pred_classes"
   ]
  },
  {
   "cell_type": "code",
   "execution_count": 62,
   "id": "c32c918d",
   "metadata": {},
   "outputs": [
    {
     "data": {
      "image/png": "[encoded data removed]",
      "text/plain": [
       "<Figure size 900x900 with 9 Axes>"
      ]
     },
     "metadata": {},
     "output_type": "display_data"
    }
   ],
   "source": [
    "plt.figure(figsize = (9, 9))\n",
    "nrows = 3\n",
    "ncols = 3\n",
    "for i, sample in enumerate(test_samples):\n",
    "    plt.subplot(nrows, ncols, i+1)\n",
    "    plt.imshow(sample.squeeze(), cmap = \"gray\")\n",
    "    pred_label = class_names[pred_classes[i]]\n",
    "    truth_label = class_names[test_labels[i]]\n",
    "    title_test = f\"Pred: {pred_label} | Act: {truth_label}\"\n",
    "    if pred_label == truth_label:\n",
    "        plt.title(title_test, fontsize = 10, c = \"g\")\n",
    "    else:\n",
    "        plt.title(title_test, fontsize = 10, c = \"r\")\n",
    "    plt.axis(False)"
   ]
  },
  {
   "cell_type": "code",
   "execution_count": 63,
   "id": "9193137e",
   "metadata": {},
   "outputs": [
    {
     "data": {
      "application/vnd.jupyter.widget-view+json": {
       "model_id": "f3587feb54e64f8ea834a35828a9d47b",
       "version_major": 2,
       "version_minor": 0
      },
      "text/plain": [
       "Making Predictions:   0%|          | 0/313 [00:00<?, ?it/s]"
      ]
     },
     "metadata": {},
     "output_type": "display_data"
    }
   ],
   "source": [
    "y_preds = []\n",
    "model_2.eval()\n",
    "with torch.inference_mode():\n",
    "    for X, y in tqdm(test_dataloader, desc = \"Making Predictions\"):\n",
    "        X, y = X.to(device), y.to(device)\n",
    "        y_logit = model_2(X)\n",
    "        y_pred = torch.softmax(y_logit, dim = 1).argmax(dim = 1)\n",
    "        y_preds.append(y_pred.cpu())\n",
    "y_pred_tensor = torch.cat(y_preds)"
   ]
  },
  {
   "cell_type": "code",
   "execution_count": 64,
   "id": "cdfd81cf",
   "metadata": {},
   "outputs": [
    {
     "name": "stdout",
     "output_type": "stream",
     "text": [
      "0.22.0\n"
     ]
    }
   ],
   "source": [
    "import torchmetrics\n",
    "import mlxtend\n",
    "print(mlxtend.__version__)"
   ]
  },
  {
   "cell_type": "code",
   "execution_count": 65,
   "id": "12441669",
   "metadata": {},
   "outputs": [],
   "source": [
    "from torchmetrics import ConfusionMatrix\n",
    "from mlxtend.plotting import plot_confusion_matrix\n",
    "\n",
    "confmat = ConfusionMatrix(num_classes = len(class_names), task = 'multiclass')\n",
    "confmat_tensor = confmat(preds = y_pred_tensor, target = test_data.targets)"
   ]
  },
  {
   "cell_type": "code",
   "execution_count": 66,
   "id": "331ab17a",
   "metadata": {},
   "outputs": [
    {
     "data": {
      "image/png": "[encoded data removed]",
      "text/plain": [
       "<Figure size 1000x1000 with 1 Axes>"
      ]
     },
     "metadata": {},
     "output_type": "display_data"
    }
   ],
   "source": [
    "fig, ax = plot_confusion_matrix(conf_mat = confmat_tensor.numpy(), class_names = class_names, figsize = (10, 10))"
   ]
  },
  {
   "cell_type": "markdown",
   "id": "b57e9061",
   "metadata": {},
   "source": [
    "# Save and Load best performing model"
   ]
  },
  {
   "cell_type": "code",
   "execution_count": 67,
   "id": "4cdaf27f",
   "metadata": {},
   "outputs": [
    {
     "name": "stdout",
     "output_type": "stream",
     "text": [
      "saving model to: models\\03_pytorch_computer_vision_model_2.pth\n"
     ]
    }
   ],
   "source": [
    "from pathlib import Path\n",
    "\n",
    "model_path = Path(\"models\")\n",
    "model_path.mkdir(parents = True, exist_ok = True)\n",
    "\n",
    "model_name = \"03_pytorch_computer_vision_model_2.pth\"\n",
    "model_save_path = model_path / model_name\n",
    "\n",
    "print(f\"saving model to: {model_save_path}\")\n",
    "torch.save(obj = model_2.state_dict(), f = model_save_path)"
   ]
  },
  {
   "cell_type": "code",
   "execution_count": 68,
   "id": "bbc96ce6",
   "metadata": {},
   "outputs": [],
   "source": [
    "loaded_model_2 = FashionMNISTModelV2(input_features = 1, output_features = 10, hidden_units = 10)\n",
    "loaded_model_2.load_state_dict(torch.load(f = model_save_path))\n",
    "loaded_model_2 = loaded_model_2.to(device)"
   ]
  },
  {
   "cell_type": "code",
   "execution_count": 69,
   "id": "e873927f",
   "metadata": {},
   "outputs": [],
   "source": [
    "torch.manual_seed(42)\n",
    "loaded_model_2_results = eval_model(model = loaded_model_2, dataloader = test_dataloader, loss_fn = loss_fn, accuracy_fn = accuracy_fn)"
   ]
  },
  {
   "cell_type": "code",
   "execution_count": 70,
   "id": "d6502c62",
   "metadata": {},
   "outputs": [
    {
     "data": {
      "text/plain": [
       "{'model': 'FashionMNISTModelV2',\n",
       " 'loss': 0.28635212779045105,\n",
       " 'acc': 89.44688498402556}"
      ]
     },
     "execution_count": 70,
     "metadata": {},
     "output_type": "execute_result"
    }
   ],
   "source": [
    "loaded_model_2_results"
   ]
  },
  {
   "cell_type": "code",
   "execution_count": 71,
   "id": "7281435e",
   "metadata": {},
   "outputs": [
    {
     "data": {
      "text/plain": [
       "tensor(True)"
      ]
     },
     "execution_count": 71,
     "metadata": {},
     "output_type": "execute_result"
    }
   ],
   "source": [
    "torch.isclose(torch.tensor(model_2_results[\"loss\"]), torch.tensor(loaded_model_2_results[\"loss\"]), atol = 1e-08, rtol = 0.0001)"
   ]
  },
  {
   "cell_type": "code",
   "execution_count": null,
   "id": "c98384fb",
   "metadata": {},
   "outputs": [],
   "source": []
  }
 ],
 "metadata": {
  "kernelspec": {
   "display_name": "Python 3 (ipykernel)",
   "language": "python",
   "name": "python3"
  },
  "language_info": {
   "codemirror_mode": {
    "name": "ipython",
    "version": 3
   },
   "file_extension": ".py",
   "mimetype": "text/x-python",
   "name": "python",
   "nbconvert_exporter": "python",
   "pygments_lexer": "ipython3",
   "version": "3.10.9"
  }
 },
 "nbformat": 4,
 "nbformat_minor": 5
}
