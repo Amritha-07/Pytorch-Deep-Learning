{
 "cells": [
  {
   "cell_type": "markdown",
   "id": "80810f55",
   "metadata": {},
   "source": [
    "# Creating Tensor"
   ]
  },
  {
   "cell_type": "code",
   "execution_count": 1,
   "id": "443f07b2",
   "metadata": {},
   "outputs": [
    {
     "data": {
      "text/plain": [
       "'2.0.1+cpu'"
      ]
     },
     "execution_count": 1,
     "metadata": {},
     "output_type": "execute_result"
    }
   ],
   "source": [
    "#torch version check\n",
    "import torch\n",
    "torch.__version__"
   ]
  },
  {
   "cell_type": "code",
   "execution_count": 2,
   "id": "7ac164f0",
   "metadata": {},
   "outputs": [],
   "source": [
    "import numpy as np"
   ]
  },
  {
   "cell_type": "code",
   "execution_count": 3,
   "id": "5f80086c",
   "metadata": {},
   "outputs": [
    {
     "data": {
      "text/plain": [
       "tensor([[ 1, -1],\n",
       "        [ 1, -1]])"
      ]
     },
     "execution_count": 3,
     "metadata": {},
     "output_type": "execute_result"
    }
   ],
   "source": [
    "#creating tensors\n",
    "torch.tensor([[1, -1], [1, -1]])"
   ]
  },
  {
   "cell_type": "code",
   "execution_count": 4,
   "id": "2816bdfe",
   "metadata": {
    "scrolled": true
   },
   "outputs": [
    {
     "data": {
      "text/plain": [
       "tensor([[1, 2, 3],\n",
       "        [4, 5, 6]], dtype=torch.int32)"
      ]
     },
     "execution_count": 4,
     "metadata": {},
     "output_type": "execute_result"
    }
   ],
   "source": [
    "torch.tensor(np.array([[1, 2, 3], [4, 5, 6]]))"
   ]
  },
  {
   "cell_type": "code",
   "execution_count": 5,
   "id": "72cc4559",
   "metadata": {},
   "outputs": [
    {
     "data": {
      "text/plain": [
       "tensor([[0, 0, 0],\n",
       "        [0, 0, 0],\n",
       "        [0, 0, 0]], dtype=torch.int32)"
      ]
     },
     "execution_count": 5,
     "metadata": {},
     "output_type": "execute_result"
    }
   ],
   "source": [
    "#torch of zeros\n",
    "torch.zeros([3, 3], dtype = torch.int32)"
   ]
  },
  {
   "cell_type": "code",
   "execution_count": 6,
   "id": "f14af4a2",
   "metadata": {},
   "outputs": [
    {
     "data": {
      "text/plain": [
       "tensor([[1., 1., 1., 1.],\n",
       "        [1., 1., 1., 1.],\n",
       "        [1., 1., 1., 1.],\n",
       "        [1., 1., 1., 1.]])"
      ]
     },
     "execution_count": 6,
     "metadata": {},
     "output_type": "execute_result"
    }
   ],
   "source": [
    "#torch of ones\n",
    "torch.ones([4, 4], dtype = torch.float32)"
   ]
  },
  {
   "cell_type": "code",
   "execution_count": 7,
   "id": "2f5a8e29",
   "metadata": {},
   "outputs": [],
   "source": [
    "x = torch.tensor([[1., 2.], [3., 4.], [5., 6.], [7., 8.]], requires_grad = True)"
   ]
  },
  {
   "cell_type": "code",
   "execution_count": 8,
   "id": "202f3ce6",
   "metadata": {},
   "outputs": [
    {
     "data": {
      "text/plain": [
       "tensor([[1., 3., 5., 7.],\n",
       "        [2., 4., 6., 8.]], grad_fn=<PermuteBackward0>)"
      ]
     },
     "execution_count": 8,
     "metadata": {},
     "output_type": "execute_result"
    }
   ],
   "source": [
    "#transpose\n",
    "x.T"
   ]
  },
  {
   "cell_type": "code",
   "execution_count": 9,
   "id": "7ea9f852",
   "metadata": {},
   "outputs": [
    {
     "data": {
      "text/plain": [
       "tensor([[1., 3., 5., 7.],\n",
       "        [2., 4., 6., 8.]], grad_fn=<TransposeBackward0>)"
      ]
     },
     "execution_count": 9,
     "metadata": {},
     "output_type": "execute_result"
    }
   ],
   "source": [
    "#tonjugated and transpose\n",
    "x.H"
   ]
  },
  {
   "cell_type": "code",
   "execution_count": 10,
   "id": "dd15fe12",
   "metadata": {},
   "outputs": [],
   "source": [
    "x = torch.tensor([[[1., 2.], [3., 4.]], [[5, 6], [7, 8]]], requires_grad = True)"
   ]
  },
  {
   "cell_type": "code",
   "execution_count": 11,
   "id": "4a2bbf28",
   "metadata": {},
   "outputs": [
    {
     "data": {
      "text/plain": [
       "tensor([[[1., 3.],\n",
       "         [2., 4.]],\n",
       "\n",
       "        [[5., 7.],\n",
       "         [6., 8.]]], grad_fn=<TransposeBackward0>)"
      ]
     },
     "execution_count": 11,
     "metadata": {},
     "output_type": "execute_result"
    }
   ],
   "source": [
    "#transpose multidimensional\n",
    "x.mT"
   ]
  },
  {
   "cell_type": "code",
   "execution_count": 12,
   "id": "11dad45f",
   "metadata": {},
   "outputs": [
    {
     "data": {
      "text/plain": [
       "tensor(7.)"
      ]
     },
     "execution_count": 12,
     "metadata": {},
     "output_type": "execute_result"
    }
   ],
   "source": [
    "#scalar\n",
    "Scalar = torch.tensor(7.)\n",
    "Scalar"
   ]
  },
  {
   "cell_type": "code",
   "execution_count": 13,
   "id": "84007abf",
   "metadata": {},
   "outputs": [
    {
     "data": {
      "text/plain": [
       "7.0"
      ]
     },
     "execution_count": 13,
     "metadata": {},
     "output_type": "execute_result"
    }
   ],
   "source": [
    "Scalar.item()"
   ]
  },
  {
   "cell_type": "code",
   "execution_count": 14,
   "id": "f50eff5a",
   "metadata": {},
   "outputs": [
    {
     "data": {
      "text/plain": [
       "0"
      ]
     },
     "execution_count": 14,
     "metadata": {},
     "output_type": "execute_result"
    }
   ],
   "source": [
    "Scalar.ndim"
   ]
  },
  {
   "cell_type": "code",
   "execution_count": 15,
   "id": "25fd7f2f",
   "metadata": {},
   "outputs": [
    {
     "data": {
      "text/plain": [
       "torch.Size([])"
      ]
     },
     "execution_count": 15,
     "metadata": {},
     "output_type": "execute_result"
    }
   ],
   "source": [
    "Scalar.shape"
   ]
  },
  {
   "cell_type": "code",
   "execution_count": 16,
   "id": "62966f63",
   "metadata": {},
   "outputs": [
    {
     "data": {
      "text/plain": [
       "tensor([ 1.,  3.,  5.,  7.,  9.,  2.,  4.,  6.,  8., 10.])"
      ]
     },
     "execution_count": 16,
     "metadata": {},
     "output_type": "execute_result"
    }
   ],
   "source": [
    "#vector\n",
    "Vector = torch.tensor([1., 3., 5., 7., 9., 2., 4., 6., 8., 10.])\n",
    "Vector"
   ]
  },
  {
   "cell_type": "code",
   "execution_count": 17,
   "id": "e45d2e56",
   "metadata": {},
   "outputs": [
    {
     "data": {
      "text/plain": [
       "1"
      ]
     },
     "execution_count": 17,
     "metadata": {},
     "output_type": "execute_result"
    }
   ],
   "source": [
    "Vector.ndim"
   ]
  },
  {
   "cell_type": "code",
   "execution_count": 18,
   "id": "83e36b02",
   "metadata": {},
   "outputs": [
    {
     "data": {
      "text/plain": [
       "torch.Size([10])"
      ]
     },
     "execution_count": 18,
     "metadata": {},
     "output_type": "execute_result"
    }
   ],
   "source": [
    "Vector.shape"
   ]
  },
  {
   "cell_type": "code",
   "execution_count": 19,
   "id": "2790be34",
   "metadata": {},
   "outputs": [
    {
     "data": {
      "text/plain": [
       "tensor([[1., 2.],\n",
       "        [3., 4.]])"
      ]
     },
     "execution_count": 19,
     "metadata": {},
     "output_type": "execute_result"
    }
   ],
   "source": [
    "#matrix\n",
    "Matrix = torch.tensor([[1., 2.], [3., 4.]])\n",
    "Matrix"
   ]
  },
  {
   "cell_type": "code",
   "execution_count": 20,
   "id": "1c2b0b3f",
   "metadata": {},
   "outputs": [
    {
     "data": {
      "text/plain": [
       "2"
      ]
     },
     "execution_count": 20,
     "metadata": {},
     "output_type": "execute_result"
    }
   ],
   "source": [
    "Matrix.ndim"
   ]
  },
  {
   "cell_type": "code",
   "execution_count": 21,
   "id": "472ecbbd",
   "metadata": {},
   "outputs": [
    {
     "data": {
      "text/plain": [
       "torch.Size([2, 2])"
      ]
     },
     "execution_count": 21,
     "metadata": {},
     "output_type": "execute_result"
    }
   ],
   "source": [
    "Matrix.shape"
   ]
  },
  {
   "cell_type": "code",
   "execution_count": 22,
   "id": "27a5b321",
   "metadata": {},
   "outputs": [
    {
     "data": {
      "text/plain": [
       "tensor([[[7., 8.],\n",
       "         [9., 3.]],\n",
       "\n",
       "        [[6., 5.],\n",
       "         [8., 6.]]])"
      ]
     },
     "execution_count": 22,
     "metadata": {},
     "output_type": "execute_result"
    }
   ],
   "source": [
    "#tensor\n",
    "Tensor = torch.tensor([[[7.,  8.], [9., 3.]], [[6., 5.], [8., 6.]]])\n",
    "Tensor"
   ]
  },
  {
   "cell_type": "code",
   "execution_count": 23,
   "id": "241bcd7b",
   "metadata": {},
   "outputs": [
    {
     "data": {
      "text/plain": [
       "3"
      ]
     },
     "execution_count": 23,
     "metadata": {},
     "output_type": "execute_result"
    }
   ],
   "source": [
    "Tensor.ndim"
   ]
  },
  {
   "cell_type": "code",
   "execution_count": 24,
   "id": "72e9001f",
   "metadata": {},
   "outputs": [
    {
     "data": {
      "text/plain": [
       "torch.Size([2, 2, 2])"
      ]
     },
     "execution_count": 24,
     "metadata": {},
     "output_type": "execute_result"
    }
   ],
   "source": [
    "Tensor.shape"
   ]
  },
  {
   "cell_type": "markdown",
   "id": "b61e41d2",
   "metadata": {},
   "source": [
    "# Random Tensor"
   ]
  },
  {
   "cell_type": "code",
   "execution_count": 25,
   "id": "f64e5d5f",
   "metadata": {},
   "outputs": [],
   "source": [
    "random_tensor = torch.rand(size = (3, 4))"
   ]
  },
  {
   "cell_type": "code",
   "execution_count": 26,
   "id": "53e6ebf0",
   "metadata": {},
   "outputs": [
    {
     "data": {
      "text/plain": [
       "(tensor([[0.6853, 0.0221, 0.6381, 0.0206],\n",
       "         [0.4353, 0.2176, 0.3570, 0.4069],\n",
       "         [0.7248, 0.0870, 0.7177, 0.1415]]),\n",
       " torch.float32)"
      ]
     },
     "execution_count": 26,
     "metadata": {},
     "output_type": "execute_result"
    }
   ],
   "source": [
    "random_tensor, random_tensor.dtype"
   ]
  },
  {
   "cell_type": "markdown",
   "id": "06c363e7",
   "metadata": {},
   "source": [
    "# Zeros and Ones"
   ]
  },
  {
   "cell_type": "code",
   "execution_count": 27,
   "id": "3b8fd162",
   "metadata": {},
   "outputs": [],
   "source": [
    "zero_tensor = torch.zeros(size = (3, 4))"
   ]
  },
  {
   "cell_type": "code",
   "execution_count": 28,
   "id": "591ff98a",
   "metadata": {},
   "outputs": [
    {
     "data": {
      "text/plain": [
       "(tensor([[0., 0., 0., 0.],\n",
       "         [0., 0., 0., 0.],\n",
       "         [0., 0., 0., 0.]]),\n",
       " torch.float32)"
      ]
     },
     "execution_count": 28,
     "metadata": {},
     "output_type": "execute_result"
    }
   ],
   "source": [
    "zero_tensor, zero_tensor.dtype"
   ]
  },
  {
   "cell_type": "code",
   "execution_count": 29,
   "id": "7c6644ff",
   "metadata": {},
   "outputs": [
    {
     "data": {
      "text/plain": [
       "(tensor([[1., 1., 1., 1.],\n",
       "         [1., 1., 1., 1.],\n",
       "         [1., 1., 1., 1.]]),\n",
       " torch.float32)"
      ]
     },
     "execution_count": 29,
     "metadata": {},
     "output_type": "execute_result"
    }
   ],
   "source": [
    "one_tensor = torch.ones(size = (3, 4))\n",
    "one_tensor, one_tensor.dtype"
   ]
  },
  {
   "cell_type": "markdown",
   "id": "bec02238",
   "metadata": {},
   "source": [
    "# Range and Tensors"
   ]
  },
  {
   "cell_type": "code",
   "execution_count": 30,
   "id": "f401466f",
   "metadata": {},
   "outputs": [],
   "source": [
    "zero_to_ten = torch.arange(start = 0, end = 10, step = 1)"
   ]
  },
  {
   "cell_type": "code",
   "execution_count": 31,
   "id": "0cbb9b5f",
   "metadata": {},
   "outputs": [
    {
     "data": {
      "text/plain": [
       "tensor([0, 1, 2, 3, 4, 5, 6, 7, 8, 9])"
      ]
     },
     "execution_count": 31,
     "metadata": {},
     "output_type": "execute_result"
    }
   ],
   "source": [
    "zero_to_ten"
   ]
  },
  {
   "cell_type": "code",
   "execution_count": 32,
   "id": "3dda8b13",
   "metadata": {},
   "outputs": [],
   "source": [
    "ten_zeros = torch.zeros_like(input = zero_to_ten)"
   ]
  },
  {
   "cell_type": "code",
   "execution_count": 33,
   "id": "a1bb0bcb",
   "metadata": {},
   "outputs": [
    {
     "data": {
      "text/plain": [
       "tensor([0, 0, 0, 0, 0, 0, 0, 0, 0, 0])"
      ]
     },
     "execution_count": 33,
     "metadata": {},
     "output_type": "execute_result"
    }
   ],
   "source": [
    "ten_zeros"
   ]
  },
  {
   "cell_type": "code",
   "execution_count": 34,
   "id": "7ad4bbe5",
   "metadata": {},
   "outputs": [],
   "source": [
    "ten_ones = torch.ones_like(input = zero_to_ten)"
   ]
  },
  {
   "cell_type": "code",
   "execution_count": 35,
   "id": "60796ffe",
   "metadata": {},
   "outputs": [
    {
     "data": {
      "text/plain": [
       "tensor([1, 1, 1, 1, 1, 1, 1, 1, 1, 1])"
      ]
     },
     "execution_count": 35,
     "metadata": {},
     "output_type": "execute_result"
    }
   ],
   "source": [
    "ten_ones"
   ]
  },
  {
   "cell_type": "markdown",
   "id": "864a3506",
   "metadata": {},
   "source": [
    "# Getting Information"
   ]
  },
  {
   "cell_type": "code",
   "execution_count": 36,
   "id": "2a519173",
   "metadata": {},
   "outputs": [],
   "source": [
    "float_32_tensor = torch.tensor([3.0, 6.0, 9.0], dtype = None, device = None, requires_grad = False)"
   ]
  },
  {
   "cell_type": "code",
   "execution_count": 37,
   "id": "67394450",
   "metadata": {},
   "outputs": [
    {
     "data": {
      "text/plain": [
       "(torch.Size([3]), torch.float32, device(type='cpu'))"
      ]
     },
     "execution_count": 37,
     "metadata": {},
     "output_type": "execute_result"
    }
   ],
   "source": [
    "#getting shape, data type and device\n",
    "float_32_tensor.shape, float_32_tensor.dtype, float_32_tensor.device"
   ]
  },
  {
   "cell_type": "code",
   "execution_count": 38,
   "id": "9810cb8a",
   "metadata": {},
   "outputs": [],
   "source": [
    "float_16_tensor = torch.tensor([3.0, 6.0, 9.0], dtype = torch.float16, device = None, requires_grad = False)"
   ]
  },
  {
   "cell_type": "code",
   "execution_count": 39,
   "id": "548827bf",
   "metadata": {},
   "outputs": [
    {
     "data": {
      "text/plain": [
       "(torch.Size([3]), torch.float16, device(type='cpu'))"
      ]
     },
     "execution_count": 39,
     "metadata": {},
     "output_type": "execute_result"
    }
   ],
   "source": [
    "float_16_tensor.shape, float_16_tensor.dtype, float_16_tensor.device"
   ]
  },
  {
   "cell_type": "markdown",
   "id": "c71e14a0",
   "metadata": {},
   "source": [
    "# Basic Operations"
   ]
  },
  {
   "cell_type": "code",
   "execution_count": 40,
   "id": "8a26ce2a",
   "metadata": {},
   "outputs": [
    {
     "data": {
      "text/plain": [
       "tensor([11, 12, 13])"
      ]
     },
     "execution_count": 40,
     "metadata": {},
     "output_type": "execute_result"
    }
   ],
   "source": [
    "tensor = torch.tensor([1, 2, 3])\n",
    "tensor + 10"
   ]
  },
  {
   "cell_type": "code",
   "execution_count": 41,
   "id": "25d03bd1",
   "metadata": {},
   "outputs": [
    {
     "data": {
      "text/plain": [
       "tensor([10, 20, 30])"
      ]
     },
     "execution_count": 41,
     "metadata": {},
     "output_type": "execute_result"
    }
   ],
   "source": [
    "tensor * 10"
   ]
  },
  {
   "cell_type": "code",
   "execution_count": 42,
   "id": "1534c8ac",
   "metadata": {},
   "outputs": [
    {
     "data": {
      "text/plain": [
       "tensor([1, 2, 3])"
      ]
     },
     "execution_count": 42,
     "metadata": {},
     "output_type": "execute_result"
    }
   ],
   "source": [
    "# Tensors don't changes until assignment\n",
    "tensor"
   ]
  },
  {
   "cell_type": "code",
   "execution_count": 43,
   "id": "72772af1",
   "metadata": {},
   "outputs": [
    {
     "data": {
      "text/plain": [
       "tensor([11, 12, 13])"
      ]
     },
     "execution_count": 43,
     "metadata": {},
     "output_type": "execute_result"
    }
   ],
   "source": [
    "#addition\n",
    "tensor = tensor + 10\n",
    "tensor"
   ]
  },
  {
   "cell_type": "code",
   "execution_count": 44,
   "id": "0a6ced47",
   "metadata": {},
   "outputs": [
    {
     "data": {
      "text/plain": [
       "tensor([110, 120, 130])"
      ]
     },
     "execution_count": 44,
     "metadata": {},
     "output_type": "execute_result"
    }
   ],
   "source": [
    "#multiplication\n",
    "tensor = tensor * 10\n",
    "tensor"
   ]
  },
  {
   "cell_type": "code",
   "execution_count": 45,
   "id": "332b6c8a",
   "metadata": {},
   "outputs": [
    {
     "data": {
      "text/plain": [
       "tensor([100, 110, 120])"
      ]
     },
     "execution_count": 45,
     "metadata": {},
     "output_type": "execute_result"
    }
   ],
   "source": [
    "#subraction\n",
    "tensor = tensor - 10\n",
    "tensor"
   ]
  },
  {
   "cell_type": "code",
   "execution_count": 46,
   "id": "65929187",
   "metadata": {},
   "outputs": [
    {
     "data": {
      "text/plain": [
       "tensor([10., 11., 12.])"
      ]
     },
     "execution_count": 46,
     "metadata": {},
     "output_type": "execute_result"
    }
   ],
   "source": [
    "#division\n",
    "tensor = tensor / 10\n",
    "tensor"
   ]
  },
  {
   "cell_type": "code",
   "execution_count": 47,
   "id": "2c437709",
   "metadata": {},
   "outputs": [
    {
     "data": {
      "text/plain": [
       "tensor([100., 121., 144.])"
      ]
     },
     "execution_count": 47,
     "metadata": {},
     "output_type": "execute_result"
    }
   ],
   "source": [
    "#scalar multiplication\n",
    "tensor * tensor"
   ]
  },
  {
   "cell_type": "code",
   "execution_count": 48,
   "id": "5097c15a",
   "metadata": {},
   "outputs": [
    {
     "data": {
      "text/plain": [
       "tensor(365.)"
      ]
     },
     "execution_count": 48,
     "metadata": {},
     "output_type": "execute_result"
    }
   ],
   "source": [
    "#matrix multiplication\n",
    "torch.matmul(tensor, tensor)"
   ]
  },
  {
   "cell_type": "code",
   "execution_count": 49,
   "id": "24157e5a",
   "metadata": {},
   "outputs": [
    {
     "name": "stdout",
     "output_type": "stream",
     "text": [
      "CPU times: total: 0 ns\n",
      "Wall time: 997 µs\n"
     ]
    },
    {
     "data": {
      "text/plain": [
       "tensor(365.)"
      ]
     },
     "execution_count": 49,
     "metadata": {},
     "output_type": "execute_result"
    }
   ],
   "source": [
    "%%time\n",
    "#matrix multiplication by hand\n",
    "\n",
    "value = 0\n",
    "for i in range(len(tensor)):\n",
    "    value += tensor[i] * tensor[i]\n",
    "value"
   ]
  },
  {
   "cell_type": "code",
   "execution_count": 50,
   "id": "c1538ca9",
   "metadata": {},
   "outputs": [
    {
     "name": "stdout",
     "output_type": "stream",
     "text": [
      "CPU times: total: 0 ns\n",
      "Wall time: 0 ns\n"
     ]
    },
    {
     "data": {
      "text/plain": [
       "tensor(365.)"
      ]
     },
     "execution_count": 50,
     "metadata": {},
     "output_type": "execute_result"
    }
   ],
   "source": [
    "%%time\n",
    "#matmul function\n",
    "\n",
    "value = torch.matmul(tensor, tensor)\n",
    "value"
   ]
  },
  {
   "cell_type": "code",
   "execution_count": 51,
   "id": "d747295a",
   "metadata": {},
   "outputs": [
    {
     "name": "stdout",
     "output_type": "stream",
     "text": [
      "Tensor A: torch.Size([3, 2])\n",
      "Tensor B: torch.Size([3, 2])\n"
     ]
    }
   ],
   "source": [
    "tensor_A= torch.tensor([[1, 2], [3, 4], [5, 6]], dtype = torch.float32)\n",
    "tensor_B= torch.tensor([[6, 5], [4, 3], [2, 1]], dtype = torch.float32)\n",
    "print(f\"Tensor A: {tensor_A.shape}\\nTensor B: {tensor_B.shape}\")"
   ]
  },
  {
   "cell_type": "code",
   "execution_count": 52,
   "id": "505c2de9",
   "metadata": {},
   "outputs": [
    {
     "name": "stdout",
     "output_type": "stream",
     "text": [
      "Tensor A: torch.Size([3, 2])\n",
      "Tensor B: torch.Size([2, 3])\n"
     ]
    }
   ],
   "source": [
    "tensor_B = tensor_B.T\n",
    "print(f\"Tensor A: {tensor_A.shape}\\nTensor B: {tensor_B.shape}\")"
   ]
  },
  {
   "cell_type": "code",
   "execution_count": 53,
   "id": "11035efb",
   "metadata": {},
   "outputs": [
    {
     "data": {
      "text/plain": [
       "tensor([[16., 10.,  4.],\n",
       "        [38., 24., 10.],\n",
       "        [60., 38., 16.]])"
      ]
     },
     "execution_count": 53,
     "metadata": {},
     "output_type": "execute_result"
    }
   ],
   "source": [
    "torch.matmul(tensor_A, tensor_B)"
   ]
  },
  {
   "cell_type": "code",
   "execution_count": 54,
   "id": "0a027756",
   "metadata": {},
   "outputs": [],
   "source": [
    "torch.manual_seed(42)\n",
    "linear = torch.nn.Linear(in_features = 2, out_features = 6)"
   ]
  },
  {
   "cell_type": "code",
   "execution_count": 55,
   "id": "415845df",
   "metadata": {},
   "outputs": [],
   "source": [
    "x = tensor_A\n",
    "output = linear(x)"
   ]
  },
  {
   "cell_type": "code",
   "execution_count": 56,
   "id": "31adca43",
   "metadata": {},
   "outputs": [
    {
     "name": "stdout",
     "output_type": "stream",
     "text": [
      "Input: tensor([[1., 2.],\n",
      "        [3., 4.],\n",
      "        [5., 6.]])\n",
      "Input Shape: torch.Size([3, 2])\n",
      "Ouput: tensor([[2.2368, 1.2292, 0.4714, 0.3864, 0.1309, 0.9838],\n",
      "        [4.4919, 2.1970, 0.4469, 0.5285, 0.3401, 2.4777],\n",
      "        [6.7469, 3.1648, 0.4224, 0.6705, 0.5493, 3.9716]],\n",
      "       grad_fn=<AddmmBackward0>)\n",
      "Output Shape: torch.Size([3, 6])\n"
     ]
    }
   ],
   "source": [
    "print(f\"Input: {x}\")\n",
    "print(f\"Input Shape: {x.shape}\")\n",
    "print(f\"Ouput: {output}\")\n",
    "print(f\"Output Shape: {output.shape}\")"
   ]
  },
  {
   "cell_type": "markdown",
   "id": "637771d7",
   "metadata": {},
   "source": [
    "# Min, Max, Mean, Sum, ETC"
   ]
  },
  {
   "cell_type": "code",
   "execution_count": 57,
   "id": "1b1b5ba3",
   "metadata": {},
   "outputs": [
    {
     "data": {
      "text/plain": [
       "tensor([ 0, 10, 20, 30, 40, 50, 60, 70])"
      ]
     },
     "execution_count": 57,
     "metadata": {},
     "output_type": "execute_result"
    }
   ],
   "source": [
    "x = torch.arange(0, 80, 10)\n",
    "x"
   ]
  },
  {
   "cell_type": "code",
   "execution_count": 58,
   "id": "bad0a190",
   "metadata": {},
   "outputs": [
    {
     "name": "stdout",
     "output_type": "stream",
     "text": [
      "Minimum: 0\n",
      "Maximum: 70\n",
      "Mean: 35.0\n",
      "Sum: 280\n"
     ]
    }
   ],
   "source": [
    "print(f\"Minimum: {x.min()}\")\n",
    "print(f\"Maximum: {x.max()}\")\n",
    "print(f\"Mean: {x.type(torch.float32).mean()}\")\n",
    "print(f\"Sum: {x.sum()}\")"
   ]
  },
  {
   "cell_type": "code",
   "execution_count": 59,
   "id": "0f990487",
   "metadata": {},
   "outputs": [
    {
     "name": "stdout",
     "output_type": "stream",
     "text": [
      "Minimum: 0\n",
      "Maximum: 70\n",
      "Mean: 35.0\n",
      "Sum: 280\n"
     ]
    }
   ],
   "source": [
    "print(f\"Minimum: {torch.min(x)}\")\n",
    "print(f\"Maximum: {torch.max(x)}\")\n",
    "print(f\"Mean: {torch.mean(x.type(torch.float32))}\")\n",
    "print(f\"Sum: {torch.sum(x)}\")"
   ]
  },
  {
   "cell_type": "code",
   "execution_count": 60,
   "id": "f1b205e3",
   "metadata": {},
   "outputs": [
    {
     "name": "stdout",
     "output_type": "stream",
     "text": [
      "Index where min element occurs: 0\n",
      "Index where max element occurs: 7\n"
     ]
    }
   ],
   "source": [
    "print(f\"Index where min element occurs: {torch.argmin(x)}\")\n",
    "print(f\"Index where max element occurs: {torch.argmax(x)}\")"
   ]
  },
  {
   "cell_type": "code",
   "execution_count": 61,
   "id": "7af55f00",
   "metadata": {},
   "outputs": [],
   "source": [
    "x_float16 = x.type(torch.float16)"
   ]
  },
  {
   "cell_type": "code",
   "execution_count": 62,
   "id": "ea0d294e",
   "metadata": {},
   "outputs": [
    {
     "data": {
      "text/plain": [
       "tensor([ 0., 10., 20., 30., 40., 50., 60., 70.], dtype=torch.float16)"
      ]
     },
     "execution_count": 62,
     "metadata": {},
     "output_type": "execute_result"
    }
   ],
   "source": [
    "x_float16"
   ]
  },
  {
   "cell_type": "code",
   "execution_count": 63,
   "id": "68dade0f",
   "metadata": {},
   "outputs": [],
   "source": [
    "x_int8 = x.type(torch.int8)"
   ]
  },
  {
   "cell_type": "code",
   "execution_count": 64,
   "id": "71f1a4d9",
   "metadata": {},
   "outputs": [
    {
     "data": {
      "text/plain": [
       "tensor([ 0, 10, 20, 30, 40, 50, 60, 70], dtype=torch.int8)"
      ]
     },
     "execution_count": 64,
     "metadata": {},
     "output_type": "execute_result"
    }
   ],
   "source": [
    "x_int8"
   ]
  },
  {
   "cell_type": "markdown",
   "id": "119f3ae4",
   "metadata": {},
   "source": [
    "# Reshaping, Stacking, Squeezing and Unsqueezing"
   ]
  },
  {
   "cell_type": "code",
   "execution_count": 65,
   "id": "51d9b42e",
   "metadata": {},
   "outputs": [],
   "source": [
    "reshaped_x = x.reshape(1, 8)\n",
    "view_x = x.view(2, 2, 2)\n",
    "stacked_x = torch.stack([x, x, x, x], dim = 0)\n",
    "squeezed_x = reshaped_x.squeeze()"
   ]
  },
  {
   "cell_type": "code",
   "execution_count": 66,
   "id": "b88a4a4f",
   "metadata": {},
   "outputs": [
    {
     "name": "stdout",
     "output_type": "stream",
     "text": [
      "old x shape: torch.Size([8])\n",
      "reshaped x shape: torch.Size([1, 8])\n",
      "view x shape: torch.Size([2, 2, 2])\n",
      "stacked x shape: torch.Size([4, 8])\n",
      "squeezed x shape: torch.Size([8])\n"
     ]
    }
   ],
   "source": [
    "#reshape creates new tensor\n",
    "#view only creates a new view of same tensor\n",
    "print(f\"old x shape: {x.shape}\")\n",
    "print(f\"reshaped x shape: {reshaped_x.shape}\")\n",
    "print(f\"view x shape: {view_x.shape}\")\n",
    "print(f\"stacked x shape: {stacked_x.shape}\")\n",
    "print(f\"squeezed x shape: {squeezed_x.shape}\")"
   ]
  },
  {
   "cell_type": "code",
   "execution_count": 67,
   "id": "bab2260d",
   "metadata": {},
   "outputs": [
    {
     "data": {
      "text/plain": [
       "tensor([[ 0, 10, 20, 30, 40, 50, 60, 70]])"
      ]
     },
     "execution_count": 67,
     "metadata": {},
     "output_type": "execute_result"
    }
   ],
   "source": [
    "reshaped_x"
   ]
  },
  {
   "cell_type": "code",
   "execution_count": 68,
   "id": "bd82e2bb",
   "metadata": {},
   "outputs": [
    {
     "data": {
      "text/plain": [
       "tensor([[[ 0, 10],\n",
       "         [20, 30]],\n",
       "\n",
       "        [[40, 50],\n",
       "         [60, 70]]])"
      ]
     },
     "execution_count": 68,
     "metadata": {},
     "output_type": "execute_result"
    }
   ],
   "source": [
    "view_x"
   ]
  },
  {
   "cell_type": "code",
   "execution_count": 69,
   "id": "f8572689",
   "metadata": {},
   "outputs": [
    {
     "data": {
      "text/plain": [
       "tensor([[ 0, 10, 20, 30, 40, 50, 60, 70],\n",
       "        [ 0, 10, 20, 30, 40, 50, 60, 70],\n",
       "        [ 0, 10, 20, 30, 40, 50, 60, 70],\n",
       "        [ 0, 10, 20, 30, 40, 50, 60, 70]])"
      ]
     },
     "execution_count": 69,
     "metadata": {},
     "output_type": "execute_result"
    }
   ],
   "source": [
    "stacked_x"
   ]
  },
  {
   "cell_type": "code",
   "execution_count": 70,
   "id": "43134290",
   "metadata": {},
   "outputs": [
    {
     "data": {
      "text/plain": [
       "tensor([ 0, 10, 20, 30, 40, 50, 60, 70])"
      ]
     },
     "execution_count": 70,
     "metadata": {},
     "output_type": "execute_result"
    }
   ],
   "source": [
    "squeezed_x"
   ]
  },
  {
   "cell_type": "code",
   "execution_count": 71,
   "id": "977e26a3",
   "metadata": {},
   "outputs": [],
   "source": [
    "original_x = torch.rand(size = (224, 224, 3))\n",
    "permuted_x = original_x.permute(2, 0, 1)"
   ]
  },
  {
   "cell_type": "code",
   "execution_count": 72,
   "id": "43536ac9",
   "metadata": {},
   "outputs": [
    {
     "name": "stdout",
     "output_type": "stream",
     "text": [
      "Previous shape: torch.Size([224, 224, 3])\n",
      "New shape: torch.Size([3, 224, 224])\n"
     ]
    }
   ],
   "source": [
    "print(f\"Previous shape: {original_x.shape}\")\n",
    "print(f\"New shape: {permuted_x.shape}\")"
   ]
  },
  {
   "cell_type": "markdown",
   "id": "821b602e",
   "metadata": {},
   "source": [
    "# Indexing"
   ]
  },
  {
   "cell_type": "code",
   "execution_count": 73,
   "id": "0dfdf940",
   "metadata": {},
   "outputs": [
    {
     "data": {
      "text/plain": [
       "(tensor([[[1, 2, 3],\n",
       "          [4, 5, 6],\n",
       "          [7, 8, 9]]]),\n",
       " torch.Size([1, 3, 3]))"
      ]
     },
     "execution_count": 73,
     "metadata": {},
     "output_type": "execute_result"
    }
   ],
   "source": [
    "x = torch.arange(1, 10).reshape(1, 3, 3)\n",
    "x, x.shape"
   ]
  },
  {
   "cell_type": "code",
   "execution_count": 74,
   "id": "ce0f03e0",
   "metadata": {},
   "outputs": [
    {
     "name": "stdout",
     "output_type": "stream",
     "text": [
      "First Square bracket: tensor([[1, 2, 3],\n",
      "        [4, 5, 6],\n",
      "        [7, 8, 9]])\n",
      "Second Square bracket: tensor([1, 2, 3])\n",
      "Third Square bracket: 1\n"
     ]
    }
   ],
   "source": [
    "#indexing by bracket\n",
    "print(f\"First Square bracket: {x[0]}\")\n",
    "print(f\"Second Square bracket: {x[0][0]}\")\n",
    "print(f\"Third Square bracket: {x[0][0][0]}\")"
   ]
  },
  {
   "cell_type": "code",
   "execution_count": 75,
   "id": "20f77f04",
   "metadata": {},
   "outputs": [
    {
     "name": "stdout",
     "output_type": "stream",
     "text": [
      "x[:, 0]: tensor([[1, 2, 3]])\n",
      "x[:, :, 1]: tensor([[2, 5, 8]])\n",
      "x[:, 1, 1]: tensor([5])\n"
     ]
    }
   ],
   "source": [
    "#all values of 0th dimension and 0th index of 1st dimension\n",
    "print(f\"x[:, 0]: {x[:, 0]}\")\n",
    "#all values of 0th and 1st dimension and 1st index of 2nd dimension\n",
    "print(f\"x[:, :, 1]: {x[:, :, 1]}\")\n",
    "#all values of 0th dimension and 1st index of 1st and 2nd dimension\n",
    "print(f\"x[:, 1, 1]: {x[:, 1, 1]}\")"
   ]
  },
  {
   "cell_type": "markdown",
   "id": "6b9b3db0",
   "metadata": {},
   "source": [
    "# Pytorch tensors & Numpy"
   ]
  },
  {
   "cell_type": "code",
   "execution_count": 76,
   "id": "98b4054b",
   "metadata": {},
   "outputs": [
    {
     "data": {
      "text/plain": [
       "(array([1, 2, 3, 4, 5, 6, 7, 8, 9]),\n",
       " tensor([1, 2, 3, 4, 5, 6, 7, 8, 9], dtype=torch.int32))"
      ]
     },
     "execution_count": 76,
     "metadata": {},
     "output_type": "execute_result"
    }
   ],
   "source": [
    "#numpy to tensor\n",
    "array = np.arange(1, 10)\n",
    "tensor = torch.from_numpy(array)\n",
    "array, tensor"
   ]
  },
  {
   "cell_type": "code",
   "execution_count": 77,
   "id": "d2d986bf",
   "metadata": {},
   "outputs": [
    {
     "data": {
      "text/plain": [
       "(array([1., 1., 1., 1., 1., 1., 1., 1., 1., 1.], dtype=float32),\n",
       " tensor([1., 1., 1., 1., 1., 1., 1., 1., 1., 1.]))"
      ]
     },
     "execution_count": 77,
     "metadata": {},
     "output_type": "execute_result"
    }
   ],
   "source": [
    "#tensor to numpy\n",
    "tensor = torch.ones(10)\n",
    "array = tensor.numpy()\n",
    "array, tensor"
   ]
  },
  {
   "cell_type": "markdown",
   "id": "55c79a7b",
   "metadata": {},
   "source": [
    "# Reproducibility"
   ]
  },
  {
   "cell_type": "code",
   "execution_count": 78,
   "id": "63a9e59b",
   "metadata": {},
   "outputs": [],
   "source": [
    "random_tensor_A = torch.rand(size = (3, 4))\n",
    "random_tensor_B = torch.rand(size = (3, 4))"
   ]
  },
  {
   "cell_type": "code",
   "execution_count": 79,
   "id": "e546ea6b",
   "metadata": {},
   "outputs": [
    {
     "name": "stdout",
     "output_type": "stream",
     "text": [
      "Tensor A:\n",
      " tensor([[0.8016, 0.3649, 0.6286, 0.9663],\n",
      "        [0.7687, 0.4566, 0.5745, 0.9200],\n",
      "        [0.3230, 0.8613, 0.0919, 0.3102]])\n",
      "Tensor B:\n",
      " tensor([[0.9536, 0.6002, 0.0351, 0.6826],\n",
      "        [0.3743, 0.5220, 0.1336, 0.9666],\n",
      "        [0.9754, 0.8474, 0.8988, 0.1105]])\n"
     ]
    }
   ],
   "source": [
    "print(f\"Tensor A:\\n {random_tensor_A}\")\n",
    "print(f\"Tensor B:\\n {random_tensor_B}\")"
   ]
  },
  {
   "cell_type": "code",
   "execution_count": 80,
   "id": "1fc5eb2d",
   "metadata": {},
   "outputs": [
    {
     "name": "stdout",
     "output_type": "stream",
     "text": [
      "Equality:\n",
      " tensor([[False, False, False, False],\n",
      "        [False, False, False, False],\n",
      "        [False, False, False, False]])\n"
     ]
    }
   ],
   "source": [
    "print(f\"Equality:\\n {random_tensor_A == random_tensor_B}\")"
   ]
  },
  {
   "cell_type": "code",
   "execution_count": 81,
   "id": "7cfba21c",
   "metadata": {},
   "outputs": [],
   "source": [
    "#pytorch\n",
    "random_seed = 42\n",
    "torch.manual_seed(seed = random_seed)\n",
    "random_tensor_C = torch.rand(size = (3, 4))\n",
    "torch.manual_seed(seed = random_seed)\n",
    "random_tensor_D = torch.rand(size = (3, 4))"
   ]
  },
  {
   "cell_type": "code",
   "execution_count": 82,
   "id": "a5299ea6",
   "metadata": {},
   "outputs": [
    {
     "name": "stdout",
     "output_type": "stream",
     "text": [
      "Tensor A:\n",
      " tensor([[0.8823, 0.9150, 0.3829, 0.9593],\n",
      "        [0.3904, 0.6009, 0.2566, 0.7936],\n",
      "        [0.9408, 0.1332, 0.9346, 0.5936]])\n",
      "Tensor B:\n",
      " tensor([[0.8823, 0.9150, 0.3829, 0.9593],\n",
      "        [0.3904, 0.6009, 0.2566, 0.7936],\n",
      "        [0.9408, 0.1332, 0.9346, 0.5936]])\n"
     ]
    }
   ],
   "source": [
    "print(f\"Tensor A:\\n {random_tensor_C}\")\n",
    "print(f\"Tensor B:\\n {random_tensor_D}\")"
   ]
  },
  {
   "cell_type": "code",
   "execution_count": 83,
   "id": "43d9e4eb",
   "metadata": {},
   "outputs": [
    {
     "name": "stdout",
     "output_type": "stream",
     "text": [
      "Equality:\n",
      " tensor([[True, True, True, True],\n",
      "        [True, True, True, True],\n",
      "        [True, True, True, True]])\n"
     ]
    }
   ],
   "source": [
    "print(f\"Equality:\\n {random_tensor_C == random_tensor_D}\")"
   ]
  },
  {
   "cell_type": "code",
   "execution_count": 84,
   "id": "234045f2",
   "metadata": {},
   "outputs": [],
   "source": [
    "#python\n",
    "import random\n",
    "random.seed(random_seed)"
   ]
  }
 ],
 "metadata": {
  "kernelspec": {
   "display_name": "Python 3 (ipykernel)",
   "language": "python",
   "name": "python3"
  },
  "language_info": {
   "codemirror_mode": {
    "name": "ipython",
    "version": 3
   },
   "file_extension": ".py",
   "mimetype": "text/x-python",
   "name": "python",
   "nbconvert_exporter": "python",
   "pygments_lexer": "ipython3",
   "version": "3.10.9"
  }
 },
 "nbformat": 4,
 "nbformat_minor": 5
}
